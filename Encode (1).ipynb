{
  "cells": [
    {
      "cell_type": "code",
      "source": [
        "!pip install google-api-python-client google-auth google-auth-httplib2 google-auth-oauthlib -q\n"
      ],
      "metadata": {
        "id": "Qd0U5FDa2xHy"
      },
      "execution_count": null,
      "outputs": []
    },
    {
      "cell_type": "code",
      "source": [
        "from google.oauth2.service_account import Credentials\n",
        "from googleapiclient.discovery import build\n",
        "\n",
        "# Path to your service account JSON key\n",
        "SERVICE_ACCOUNT_FILE = '/content/inspired-truth-422708-n2-60693c79cb65.json'\n",
        "\n",
        "# Scopes required for Google Calendar API\n",
        "SCOPES = ['https://www.googleapis.com/auth/calendar']\n",
        "\n",
        "# The email of the specific calendar to access\n",
        "CALENDAR_ID = 'ebc8bb590a66d7a545bccb9ae0662489f01f15abfb02541f5104dc617ade90a0@group.calendar.google.com'  # Replace with your calendar's email\n",
        "\n",
        "\n",
        "# Authenticate using the service account\n",
        "credentials = Credentials.from_service_account_file(\n",
        "    SERVICE_ACCOUNT_FILE, scopes=SCOPES\n",
        ")\n",
        "\n",
        "# Build the Google Calendar API service\n",
        "service = build('calendar', 'v3', credentials=credentials)\n",
        "\n",
        "# List upcoming events\n",
        "print(\"Fetching events from the calendar...\")\n",
        "events_result = service.events().list(\n",
        "    calendarId=CALENDAR_ID,\n",
        "    maxResults=10,\n",
        "    singleEvents=True,\n",
        "    orderBy='startTime'\n",
        ").execute()\n",
        "\n",
        "events = events_result.get('items', [])\n",
        "\n",
        "if not events:\n",
        "    print(\"No upcoming events found.\")\n",
        "for event in events:\n",
        "    start = event['start'].get('dateTime', event['start'].get('date'))\n",
        "    print(f\"Event: {event['summary']} at {start}\")\n",
        "\n",
        "# # Example: Create a new event\n",
        "# event = {\n",
        "#     'summary': 'Service Account Event',\n",
        "#     'location': 'Virtual Meeting',\n",
        "#     'description': 'Created using a service account.',\n",
        "#     'start': {\n",
        "#         'dateTime': '2025-01-15T10:00:00-07:00',\n",
        "#         'timeZone': 'America/Los_Angeles',\n",
        "#     },\n",
        "#     'end': {\n",
        "#         'dateTime': '2025-01-15T11:00:00-07:00',\n",
        "#         'timeZone': 'America/Los_Angeles',\n",
        "#     },\n",
        "# }\n",
        "\n",
        "# Uncomment to create an event\n",
        "# event = service.events().insert(calendarId=CALENDAR_ID, body=event).execute()\n",
        "# print(f\"Event created: {event.get('htmlLink')}\")\n",
        "\n"
      ],
      "metadata": {
        "colab": {
          "base_uri": "https://localhost:8080/"
        },
        "id": "9cSBxyZH2y8B",
        "outputId": "f24e57ff-ddd9-4083-ab28-04889ddcca96"
      },
      "execution_count": null,
      "outputs": [
        {
          "output_type": "stream",
          "name": "stdout",
          "text": [
            "Fetching events from the calendar...\n",
            "Event: Service Account Event at 2025-01-15T10:00:00+05:30\n"
          ]
        }
      ]
    },
    {
      "cell_type": "code",
      "execution_count": null,
      "metadata": {
        "id": "pXGGtgZGnEOu"
      },
      "outputs": [],
      "source": [
        "%%capture --no-stderr\n",
        "%pip install -U tavily-python langchain_community"
      ]
    },
    {
      "cell_type": "code",
      "execution_count": null,
      "metadata": {
        "id": "SigZwZ0WlzOU"
      },
      "outputs": [],
      "source": [
        "%%capture --no-stderr\n",
        "%pip install -U langgraph langsmith langchain_anthropic"
      ]
    },
    {
      "cell_type": "code",
      "execution_count": null,
      "metadata": {
        "colab": {
          "base_uri": "https://localhost:8080/"
        },
        "id": "Cth_5hTcolsC",
        "outputId": "48a7e963-3511-4907-faf7-48e175d8366f"
      },
      "outputs": [
        {
          "output_type": "stream",
          "name": "stdout",
          "text": [
            "\u001b[?25l   \u001b[90m━━━━━━━━━━━━━━━━━━━━━━━━━━━━━━━━━━━━━━━━\u001b[0m \u001b[32m0.0/109.6 kB\u001b[0m \u001b[31m?\u001b[0m eta \u001b[36m-:--:--\u001b[0m\r\u001b[2K   \u001b[91m━━━━━━━━━━━━━━━━━━━━━━━━━━━━━━━━━━━━━\u001b[0m\u001b[90m╺\u001b[0m\u001b[90m━━\u001b[0m \u001b[32m102.4/109.6 kB\u001b[0m \u001b[31m11.7 MB/s\u001b[0m eta \u001b[36m0:00:01\u001b[0m\r\u001b[2K   \u001b[90m━━━━━━━━━━━━━━━━━━━━━━━━━━━━━━━━━━━━━━━━\u001b[0m \u001b[32m109.6/109.6 kB\u001b[0m \u001b[31m2.5 MB/s\u001b[0m eta \u001b[36m0:00:00\u001b[0m\n",
            "\u001b[?25h"
          ]
        }
      ],
      "source": [
        "!pip install langchain_groq -q"
      ]
    },
    {
      "cell_type": "code",
      "execution_count": null,
      "metadata": {
        "id": "hyYbJ0vFDPEr"
      },
      "outputs": [],
      "source": [
        "!pip install gTTS -q"
      ]
    },
    {
      "cell_type": "code",
      "execution_count": null,
      "metadata": {
        "id": "2oIH-76I31Ev"
      },
      "outputs": [],
      "source": [
        "from gtts import gTTS\n",
        "import os\n",
        "from groq import Groq\n",
        "from tempfile import NamedTemporaryFile"
      ]
    },
    {
      "cell_type": "code",
      "execution_count": null,
      "metadata": {
        "id": "ZflMZS-ql4wx"
      },
      "outputs": [],
      "source": [
        "import getpass\n",
        "import os\n",
        "\n",
        "def _set_env(var: str):\n",
        "    if not os.environ.get(var):\n",
        "        os.environ[var] = getpass.getpass(f\"{var}: \")\n",
        "\n"
      ]
    },
    {
      "cell_type": "code",
      "execution_count": null,
      "metadata": {
        "colab": {
          "base_uri": "https://localhost:8080/"
        },
        "id": "SBZyR3U0ppTu",
        "outputId": "21c7aa8d-9f8a-45cf-d2e5-2f6b04d21612"
      },
      "outputs": [
        {
          "name": "stdout",
          "output_type": "stream",
          "text": [
            "TAVILY_API_KEY: ··········\n"
          ]
        }
      ],
      "source": [
        "_set_env(\"TAVILY_API_KEY\")"
      ]
    },
    {
      "cell_type": "code",
      "execution_count": null,
      "metadata": {
        "id": "YO5lW7M5oL1i"
      },
      "outputs": [],
      "source": [
        "from google.colab import userdata\n",
        "groq_api_key = userdata.get('groq_api_key')\n",
        "langsmith_api_key = userdata.get('langsmith_api_key')"
      ]
    },
    {
      "cell_type": "code",
      "execution_count": null,
      "metadata": {
        "id": "WwnGujnIZK1K"
      },
      "outputs": [],
      "source": [
        "import os\n",
        "os.environ[\"LANGCHAIN_TRACING_V2\"] = \"true\"\n",
        "os.environ[\"LANGCHAIN_ENDPOINT\"] = \"https://api.smith.langchain.com\"\n",
        "os.environ[\"LANGCHAIN_API_KEY\"] = langsmith_api_key\n",
        "os.environ[\"LANGCHAIN_PROJECT\"] = 'ENCODE'"
      ]
    },
    {
      "cell_type": "code",
      "execution_count": null,
      "metadata": {
        "id": "VtDtnT-1ptFy"
      },
      "outputs": [],
      "source": [
        "from langchain_community.tools.tavily_search import TavilySearchResults\n",
        "\n",
        "search = TavilySearchResults(max_results=5)"
      ]
    },
    {
      "cell_type": "code",
      "execution_count": null,
      "metadata": {
        "id": "ub-YHI_Wa0L0"
      },
      "outputs": [],
      "source": [
        "combined_result = '\\n'.join([item['content'] for item in result])"
      ]
    },
    {
      "cell_type": "code",
      "execution_count": null,
      "metadata": {
        "colab": {
          "base_uri": "https://localhost:8080/",
          "height": 123
        },
        "id": "_cml3FXmbHSc",
        "outputId": "a99436d1-14d4-44c9-fbaf-70604e5ae034"
      },
      "outputs": [
        {
          "data": {
            "application/vnd.google.colaboratory.intrinsic+json": {
              "type": "string"
            },
            "text/plain": [
              "'Nodes¶ In LangGraph, nodes are typically python functions (sync or async) where the first positional argument is the state, and (optionally), the second positional argument is a \"config\", containing optional configurable parameters (such as a thread_id). Similar to NetworkX, you add these nodes to a graph using the add_node method:\\nLangGraph Nodes. Nodes are defined as Python functions that can perform a set of actions. For example, a node can integrate with a large language model, process information, call an external API, or any other task. A LangGraph node takes the state of the graph as a parameter and returns an updated state after it is executed.\\nNodes (Tasks): Nodes are like the workstations on the assembly line. Each node performs a specific task on the product. In LangGraph, nodes are Python functions that take the current state, do some work, and return an updated state. Next, we define the nodes, each representing a task in our sandwich-making process.\\nNodes: Nodes are the building blocks of your LangGraph. Each node represents a function or a computation step. You define nodes to perform specific tasks, such as processing input, making\\nIn LangGraph, each node represents an LLM agent, and the edges are the communication channels between these agents. This structure allows for clear and manageable workflows, where each agent performs specific tasks and passes information to other agents as needed. State management. One of LangGraph\\'s standout features is its automatic state'"
            ]
          },
          "execution_count": 14,
          "metadata": {},
          "output_type": "execute_result"
        }
      ],
      "source": [
        "combined_result"
      ]
    },
    {
      "cell_type": "code",
      "execution_count": null,
      "metadata": {
        "colab": {
          "base_uri": "https://localhost:8080/"
        },
        "id": "lDPACURYGxua",
        "outputId": "1ac27c1e-1edf-4f82-e464-8a639d0d2fa7"
      },
      "outputs": [
        {
          "output_type": "stream",
          "name": "stdout",
          "text": [
            "  Installing build dependencies ... \u001b[?25l\u001b[?25hdone\n",
            "  Getting requirements to build wheel ... \u001b[?25l\u001b[?25hdone\n",
            "  Preparing metadata (pyproject.toml) ... \u001b[?25l\u001b[?25hdone\n",
            "\u001b[2K   \u001b[90m━━━━━━━━━━━━━━━━━━━━━━━━━━━━━━━━━━━━━━━━\u001b[0m \u001b[32m209.5/209.5 MB\u001b[0m \u001b[31m5.4 MB/s\u001b[0m eta \u001b[36m0:00:00\u001b[0m\n",
            "\u001b[?25h  Building wheel for openai-whisper (pyproject.toml) ... \u001b[?25l\u001b[?25hdone\n"
          ]
        }
      ],
      "source": [
        "!pip install git+https://github.com/openai/whisper.git -q\n"
      ]
    },
    {
      "cell_type": "code",
      "execution_count": null,
      "metadata": {
        "colab": {
          "base_uri": "https://localhost:8080/",
          "height": 376
        },
        "id": "mgm1802cGs-M",
        "outputId": "c4b3dde2-a183-49ae-cf30-a448295bb124"
      },
      "outputs": [
        {
          "output_type": "stream",
          "name": "stderr",
          "text": [
            "100%|█████████████████████████████████████| 1.51G/1.51G [00:27<00:00, 59.3MiB/s]\n",
            "/usr/local/lib/python3.10/dist-packages/whisper/__init__.py:150: FutureWarning: You are using `torch.load` with `weights_only=False` (the current default value), which uses the default pickle module implicitly. It is possible to construct malicious pickle data which will execute arbitrary code during unpickling (See https://github.com/pytorch/pytorch/blob/main/SECURITY.md#untrusted-models for more details). In a future release, the default value for `weights_only` will be flipped to `True`. This limits the functions that could be executed during unpickling. Arbitrary objects will no longer be allowed to be loaded via this mode unless they are explicitly allowlisted by the user via `torch.serialization.add_safe_globals`. We recommend you start setting `weights_only=True` for any use case where you don't have full control of the loaded file. Please open an issue on GitHub for any issues related to this experimental feature.\n",
            "  checkpoint = torch.load(fp, map_location=device)\n"
          ]
        },
        {
          "output_type": "error",
          "ename": "RuntimeError",
          "evalue": "Found no NVIDIA driver on your system. Please check that you have an NVIDIA GPU and installed a driver from http://www.nvidia.com/Download/index.aspx",
          "traceback": [
            "\u001b[0;31m---------------------------------------------------------------------------\u001b[0m",
            "\u001b[0;31mRuntimeError\u001b[0m                              Traceback (most recent call last)",
            "\u001b[0;32m<ipython-input-15-9a4dc52a1302>\u001b[0m in \u001b[0;36m<cell line: 2>\u001b[0;34m()\u001b[0m\n\u001b[1;32m      1\u001b[0m \u001b[0;32mimport\u001b[0m \u001b[0mwhisper\u001b[0m\u001b[0;34m\u001b[0m\u001b[0;34m\u001b[0m\u001b[0m\n\u001b[0;32m----> 2\u001b[0;31m \u001b[0maudio_model\u001b[0m \u001b[0;34m=\u001b[0m \u001b[0mwhisper\u001b[0m\u001b[0;34m.\u001b[0m\u001b[0mload_model\u001b[0m\u001b[0;34m(\u001b[0m\u001b[0;34m\"turbo\"\u001b[0m\u001b[0;34m)\u001b[0m\u001b[0;34m.\u001b[0m\u001b[0mto\u001b[0m\u001b[0;34m(\u001b[0m\u001b[0;34m'cuda'\u001b[0m\u001b[0;34m)\u001b[0m\u001b[0;34m\u001b[0m\u001b[0;34m\u001b[0m\u001b[0m\n\u001b[0m",
            "\u001b[0;32m/usr/local/lib/python3.10/dist-packages/torch/nn/modules/module.py\u001b[0m in \u001b[0;36mto\u001b[0;34m(self, *args, **kwargs)\u001b[0m\n\u001b[1;32m   1338\u001b[0m                     \u001b[0;32mraise\u001b[0m\u001b[0;34m\u001b[0m\u001b[0;34m\u001b[0m\u001b[0m\n\u001b[1;32m   1339\u001b[0m \u001b[0;34m\u001b[0m\u001b[0m\n\u001b[0;32m-> 1340\u001b[0;31m         \u001b[0;32mreturn\u001b[0m \u001b[0mself\u001b[0m\u001b[0;34m.\u001b[0m\u001b[0m_apply\u001b[0m\u001b[0;34m(\u001b[0m\u001b[0mconvert\u001b[0m\u001b[0;34m)\u001b[0m\u001b[0;34m\u001b[0m\u001b[0;34m\u001b[0m\u001b[0m\n\u001b[0m\u001b[1;32m   1341\u001b[0m \u001b[0;34m\u001b[0m\u001b[0m\n\u001b[1;32m   1342\u001b[0m     def register_full_backward_pre_hook(\n",
            "\u001b[0;32m/usr/local/lib/python3.10/dist-packages/torch/nn/modules/module.py\u001b[0m in \u001b[0;36m_apply\u001b[0;34m(self, fn, recurse)\u001b[0m\n\u001b[1;32m    898\u001b[0m         \u001b[0;32mif\u001b[0m \u001b[0mrecurse\u001b[0m\u001b[0;34m:\u001b[0m\u001b[0;34m\u001b[0m\u001b[0;34m\u001b[0m\u001b[0m\n\u001b[1;32m    899\u001b[0m             \u001b[0;32mfor\u001b[0m \u001b[0mmodule\u001b[0m \u001b[0;32min\u001b[0m \u001b[0mself\u001b[0m\u001b[0;34m.\u001b[0m\u001b[0mchildren\u001b[0m\u001b[0;34m(\u001b[0m\u001b[0;34m)\u001b[0m\u001b[0;34m:\u001b[0m\u001b[0;34m\u001b[0m\u001b[0;34m\u001b[0m\u001b[0m\n\u001b[0;32m--> 900\u001b[0;31m                 \u001b[0mmodule\u001b[0m\u001b[0;34m.\u001b[0m\u001b[0m_apply\u001b[0m\u001b[0;34m(\u001b[0m\u001b[0mfn\u001b[0m\u001b[0;34m)\u001b[0m\u001b[0;34m\u001b[0m\u001b[0;34m\u001b[0m\u001b[0m\n\u001b[0m\u001b[1;32m    901\u001b[0m \u001b[0;34m\u001b[0m\u001b[0m\n\u001b[1;32m    902\u001b[0m         \u001b[0;32mdef\u001b[0m \u001b[0mcompute_should_use_set_data\u001b[0m\u001b[0;34m(\u001b[0m\u001b[0mtensor\u001b[0m\u001b[0;34m,\u001b[0m \u001b[0mtensor_applied\u001b[0m\u001b[0;34m)\u001b[0m\u001b[0;34m:\u001b[0m\u001b[0;34m\u001b[0m\u001b[0;34m\u001b[0m\u001b[0m\n",
            "\u001b[0;32m/usr/local/lib/python3.10/dist-packages/torch/nn/modules/module.py\u001b[0m in \u001b[0;36m_apply\u001b[0;34m(self, fn, recurse)\u001b[0m\n\u001b[1;32m    898\u001b[0m         \u001b[0;32mif\u001b[0m \u001b[0mrecurse\u001b[0m\u001b[0;34m:\u001b[0m\u001b[0;34m\u001b[0m\u001b[0;34m\u001b[0m\u001b[0m\n\u001b[1;32m    899\u001b[0m             \u001b[0;32mfor\u001b[0m \u001b[0mmodule\u001b[0m \u001b[0;32min\u001b[0m \u001b[0mself\u001b[0m\u001b[0;34m.\u001b[0m\u001b[0mchildren\u001b[0m\u001b[0;34m(\u001b[0m\u001b[0;34m)\u001b[0m\u001b[0;34m:\u001b[0m\u001b[0;34m\u001b[0m\u001b[0;34m\u001b[0m\u001b[0m\n\u001b[0;32m--> 900\u001b[0;31m                 \u001b[0mmodule\u001b[0m\u001b[0;34m.\u001b[0m\u001b[0m_apply\u001b[0m\u001b[0;34m(\u001b[0m\u001b[0mfn\u001b[0m\u001b[0;34m)\u001b[0m\u001b[0;34m\u001b[0m\u001b[0;34m\u001b[0m\u001b[0m\n\u001b[0m\u001b[1;32m    901\u001b[0m \u001b[0;34m\u001b[0m\u001b[0m\n\u001b[1;32m    902\u001b[0m         \u001b[0;32mdef\u001b[0m \u001b[0mcompute_should_use_set_data\u001b[0m\u001b[0;34m(\u001b[0m\u001b[0mtensor\u001b[0m\u001b[0;34m,\u001b[0m \u001b[0mtensor_applied\u001b[0m\u001b[0;34m)\u001b[0m\u001b[0;34m:\u001b[0m\u001b[0;34m\u001b[0m\u001b[0;34m\u001b[0m\u001b[0m\n",
            "\u001b[0;32m/usr/local/lib/python3.10/dist-packages/torch/nn/modules/module.py\u001b[0m in \u001b[0;36m_apply\u001b[0;34m(self, fn, recurse)\u001b[0m\n\u001b[1;32m    925\u001b[0m             \u001b[0;31m# `with torch.no_grad():`\u001b[0m\u001b[0;34m\u001b[0m\u001b[0;34m\u001b[0m\u001b[0m\n\u001b[1;32m    926\u001b[0m             \u001b[0;32mwith\u001b[0m \u001b[0mtorch\u001b[0m\u001b[0;34m.\u001b[0m\u001b[0mno_grad\u001b[0m\u001b[0;34m(\u001b[0m\u001b[0;34m)\u001b[0m\u001b[0;34m:\u001b[0m\u001b[0;34m\u001b[0m\u001b[0;34m\u001b[0m\u001b[0m\n\u001b[0;32m--> 927\u001b[0;31m                 \u001b[0mparam_applied\u001b[0m \u001b[0;34m=\u001b[0m \u001b[0mfn\u001b[0m\u001b[0;34m(\u001b[0m\u001b[0mparam\u001b[0m\u001b[0;34m)\u001b[0m\u001b[0;34m\u001b[0m\u001b[0;34m\u001b[0m\u001b[0m\n\u001b[0m\u001b[1;32m    928\u001b[0m             \u001b[0mp_should_use_set_data\u001b[0m \u001b[0;34m=\u001b[0m \u001b[0mcompute_should_use_set_data\u001b[0m\u001b[0;34m(\u001b[0m\u001b[0mparam\u001b[0m\u001b[0;34m,\u001b[0m \u001b[0mparam_applied\u001b[0m\u001b[0;34m)\u001b[0m\u001b[0;34m\u001b[0m\u001b[0;34m\u001b[0m\u001b[0m\n\u001b[1;32m    929\u001b[0m \u001b[0;34m\u001b[0m\u001b[0m\n",
            "\u001b[0;32m/usr/local/lib/python3.10/dist-packages/torch/nn/modules/module.py\u001b[0m in \u001b[0;36mconvert\u001b[0;34m(t)\u001b[0m\n\u001b[1;32m   1324\u001b[0m                         \u001b[0mmemory_format\u001b[0m\u001b[0;34m=\u001b[0m\u001b[0mconvert_to_format\u001b[0m\u001b[0;34m,\u001b[0m\u001b[0;34m\u001b[0m\u001b[0;34m\u001b[0m\u001b[0m\n\u001b[1;32m   1325\u001b[0m                     )\n\u001b[0;32m-> 1326\u001b[0;31m                 return t.to(\n\u001b[0m\u001b[1;32m   1327\u001b[0m                     \u001b[0mdevice\u001b[0m\u001b[0;34m,\u001b[0m\u001b[0;34m\u001b[0m\u001b[0;34m\u001b[0m\u001b[0m\n\u001b[1;32m   1328\u001b[0m                     \u001b[0mdtype\u001b[0m \u001b[0;32mif\u001b[0m \u001b[0mt\u001b[0m\u001b[0;34m.\u001b[0m\u001b[0mis_floating_point\u001b[0m\u001b[0;34m(\u001b[0m\u001b[0;34m)\u001b[0m \u001b[0;32mor\u001b[0m \u001b[0mt\u001b[0m\u001b[0;34m.\u001b[0m\u001b[0mis_complex\u001b[0m\u001b[0;34m(\u001b[0m\u001b[0;34m)\u001b[0m \u001b[0;32melse\u001b[0m \u001b[0;32mNone\u001b[0m\u001b[0;34m,\u001b[0m\u001b[0;34m\u001b[0m\u001b[0;34m\u001b[0m\u001b[0m\n",
            "\u001b[0;32m/usr/local/lib/python3.10/dist-packages/torch/cuda/__init__.py\u001b[0m in \u001b[0;36m_lazy_init\u001b[0;34m()\u001b[0m\n\u001b[1;32m    317\u001b[0m         \u001b[0;32mif\u001b[0m \u001b[0;34m\"CUDA_MODULE_LOADING\"\u001b[0m \u001b[0;32mnot\u001b[0m \u001b[0;32min\u001b[0m \u001b[0mos\u001b[0m\u001b[0;34m.\u001b[0m\u001b[0menviron\u001b[0m\u001b[0;34m:\u001b[0m\u001b[0;34m\u001b[0m\u001b[0;34m\u001b[0m\u001b[0m\n\u001b[1;32m    318\u001b[0m             \u001b[0mos\u001b[0m\u001b[0;34m.\u001b[0m\u001b[0menviron\u001b[0m\u001b[0;34m[\u001b[0m\u001b[0;34m\"CUDA_MODULE_LOADING\"\u001b[0m\u001b[0;34m]\u001b[0m \u001b[0;34m=\u001b[0m \u001b[0;34m\"LAZY\"\u001b[0m\u001b[0;34m\u001b[0m\u001b[0;34m\u001b[0m\u001b[0m\n\u001b[0;32m--> 319\u001b[0;31m         \u001b[0mtorch\u001b[0m\u001b[0;34m.\u001b[0m\u001b[0m_C\u001b[0m\u001b[0;34m.\u001b[0m\u001b[0m_cuda_init\u001b[0m\u001b[0;34m(\u001b[0m\u001b[0;34m)\u001b[0m\u001b[0;34m\u001b[0m\u001b[0;34m\u001b[0m\u001b[0m\n\u001b[0m\u001b[1;32m    320\u001b[0m         \u001b[0;31m# Some of the queued calls may reentrantly call _lazy_init();\u001b[0m\u001b[0;34m\u001b[0m\u001b[0;34m\u001b[0m\u001b[0m\n\u001b[1;32m    321\u001b[0m         \u001b[0;31m# we need to just return without initializing in that case.\u001b[0m\u001b[0;34m\u001b[0m\u001b[0;34m\u001b[0m\u001b[0m\n",
            "\u001b[0;31mRuntimeError\u001b[0m: Found no NVIDIA driver on your system. Please check that you have an NVIDIA GPU and installed a driver from http://www.nvidia.com/Download/index.aspx"
          ]
        }
      ],
      "source": [
        "import whisper\n",
        "audio_model = whisper.load_model(\"turbo\").to('cuda')"
      ]
    },
    {
      "cell_type": "code",
      "execution_count": null,
      "metadata": {
        "id": "CdcWzH8k4ASV"
      },
      "outputs": [],
      "source": [
        "# from langchain_groq import ChatGroq\n",
        "# audio_model = ChatGroq(groq_api_key=groq_api_key, model_name=\"whisper-large-v3-turbo\")"
      ]
    },
    {
      "cell_type": "code",
      "execution_count": null,
      "metadata": {
        "id": "-ZvfxjRR4MVn"
      },
      "outputs": [],
      "source": [
        "def speech_to_text(audio_path):\n",
        "    transcription = audio_model.transcribe(audio_path)[\"text\"]\n",
        "    return transcription"
      ]
    },
    {
      "cell_type": "code",
      "execution_count": null,
      "metadata": {
        "id": "3tcKOqCl67hA"
      },
      "outputs": [],
      "source": [
        "x = speech_to_text('/content/my name is will.m4a')"
      ]
    },
    {
      "cell_type": "code",
      "execution_count": null,
      "metadata": {
        "colab": {
          "base_uri": "https://localhost:8080/",
          "height": 36
        },
        "id": "7du9A87G7FVn",
        "outputId": "9cbdcf69-4353-48f0-bab2-bd67e0b0395b"
      },
      "outputs": [
        {
          "data": {
            "application/vnd.google.colaboratory.intrinsic+json": {
              "type": "string"
            },
            "text/plain": [
              "' My name is Phil.'"
            ]
          },
          "execution_count": 15,
          "metadata": {},
          "output_type": "execute_result"
        }
      ],
      "source": [
        "x"
      ]
    },
    {
      "cell_type": "code",
      "execution_count": null,
      "metadata": {
        "id": "LRPZHeUmwFec"
      },
      "outputs": [],
      "source": [
        "!pip install cassio -q"
      ]
    },
    {
      "cell_type": "code",
      "execution_count": null,
      "metadata": {
        "id": "_cih310E1Y4d"
      },
      "outputs": [],
      "source": [
        "!pip install tiktoken -q"
      ]
    },
    {
      "cell_type": "code",
      "execution_count": null,
      "metadata": {
        "id": "r5gdhHtYjGOz"
      },
      "outputs": [],
      "source": [
        "import cassio\n",
        "ASTRA_DB_APPLICATION_TOKEN = \"AstraCS:KbNWBbtOOzasZtCrdFchdQef:795f451cdb79dcc9a02f5b364e76e587c367a75e07c449b2c7f32dab6d6cc516\"\n",
        "ASTRA_DB_ID = \"de2739c2-f9d0-49d1-acc8-2fb1e94759ec\"\n",
        "cassio.init(token = ASTRA_DB_APPLICATION_TOKEN ,database_id = ASTRA_DB_ID )"
      ]
    },
    {
      "cell_type": "code",
      "execution_count": null,
      "metadata": {
        "id": "A2sPYipDjuM_"
      },
      "outputs": [],
      "source": [
        "%%capture\n",
        "!pip install tiktoken langchainhub langchain_huggingface"
      ]
    },
    {
      "cell_type": "code",
      "execution_count": null,
      "metadata": {
        "id": "a1SnwivQkEC2"
      },
      "outputs": [],
      "source": [
        "from langchain.text_splitter import RecursiveCharacterTextSplitter\n",
        "from langchain.document_loaders import WebBaseLoader\n",
        "\n",
        "urls = [\n",
        "    \"https://en.wikipedia.org/wiki/Max_Life_Insurance\",\n",
        "    \"https://www.maxlifeinsurance.com/term-insurance-plans/premium-calculator?utmCode=1311271&utm_theme=1Crore&utm_source=google&utm_medium=cpc&utm_campaign=1_Brand_Exact_CitiesNew_TCPA_Experiment_25072024_ECPC&utm_content=NeutralKeywords_02122024&utm_term=max%20life%20insurance%20co&gclid=Cj0KCQiAkJO8BhCGARIsAMkswyjBqeASWdTfnkqhC3YD0bzMJeAku11UF2beXZPAceVSeBsye9Em6k0aAjquEALw_wcB\",\n",
        "    \"https://www.maxlifeinsurance.com/life-insurance-plans\",\n",
        "    \"https://www.maxlifeinsurance.com/blog/all-products\" ,\n",
        "    \"https://www.maxlifeinsurance.com/term-insurance-plans/smart-secure-plus-plan\",\n",
        "    \"https://www.maxlifeinsurance.com/term-insurance-plans/smart-total-elite-protection-plan\",\n",
        "    \"https://www.maxlifeinsurance.com/term-insurance-plans/saral-jeevan-bima\",\n",
        "    \"https://www.maxlifeinsurance.com/about-us\",\n",
        "\n",
        "]"
      ]
    },
    {
      "cell_type": "code",
      "execution_count": null,
      "metadata": {
        "id": "3VQ4Ub4ZsZaY"
      },
      "outputs": [],
      "source": [
        "from langgraph.checkpoint.memory import MemorySaver\n",
        "\n",
        "memory = MemorySaver()"
      ]
    },
    {
      "cell_type": "code",
      "execution_count": null,
      "metadata": {
        "id": "_IoyKJSYlAaj"
      },
      "outputs": [],
      "source": [
        "docs = [WebBaseLoader(url).load() for url in urls]\n",
        "doc_list = [item[0] for item in docs]\n",
        "text_splitter = RecursiveCharacterTextSplitter.from_tiktoken_encoder(chunk_size=500, chunk_overlap=100)\n",
        "doc_chunks = text_splitter.split_documents(doc_list)"
      ]
    },
    {
      "cell_type": "code",
      "execution_count": null,
      "metadata": {
        "id": "dqH3E6IBm66I"
      },
      "outputs": [],
      "source": [
        "len(doc_chunks)"
      ]
    },
    {
      "cell_type": "code",
      "execution_count": null,
      "metadata": {
        "id": "ATxDQ7-onZ6h"
      },
      "outputs": [],
      "source": [
        "doc_chunks[36]"
      ]
    },
    {
      "cell_type": "code",
      "execution_count": null,
      "metadata": {
        "id": "J3IN-mBP2Dxk"
      },
      "outputs": [],
      "source": [
        "!pip install --upgrade huggingface_hub -q"
      ]
    },
    {
      "cell_type": "code",
      "execution_count": null,
      "metadata": {
        "id": "KLaLRhYM1rWx"
      },
      "outputs": [],
      "source": [
        "!pip install langchain_huggingface -q"
      ]
    },
    {
      "cell_type": "code",
      "execution_count": null,
      "metadata": {
        "id": "UKo6rMYdoKbG"
      },
      "outputs": [],
      "source": [
        "from langchain_huggingface import HuggingFaceEmbeddings\n",
        "embedd = HuggingFaceEmbeddings(model_name = \"all-MiniLM-L6-v2\")"
      ]
    },
    {
      "cell_type": "code",
      "execution_count": null,
      "metadata": {
        "id": "ihdqR4P_pcz2"
      },
      "outputs": [],
      "source": [
        "from langchain.vectorstores.cassandra import Cassandra\n",
        "astra_vdb = Cassandra(embedding = embedd ,\n",
        "                      table_name= \"encode_demo\" ,\n",
        "                      session = None ,\n",
        "                      keyspace = None)"
      ]
    },
    {
      "cell_type": "code",
      "execution_count": null,
      "metadata": {
        "id": "7mYOob7eqXGq"
      },
      "outputs": [],
      "source": [
        "from langchain.indexes.vectorstore import VectorStoreIndexWrapper\n",
        "astra_vdb.add_documents(doc_chunks)\n",
        "astra_vdb_idx = VectorStoreIndexWrapper(vectorstore = astra_vdb)  ##This wrapper is for interaction with the database"
      ]
    },
    {
      "cell_type": "code",
      "execution_count": null,
      "metadata": {
        "id": "MsxH-icBq5OV"
      },
      "outputs": [],
      "source": [
        "retriever = astra_vdb.as_retriever()\n",
        "r = retriever.invoke(\"What is Smart Secure Plus Plan\" , search_kwargs = {'k':2})"
      ]
    },
    {
      "cell_type": "code",
      "execution_count": null,
      "metadata": {
        "id": "ZXGLbdKFdq6O"
      },
      "outputs": [],
      "source": [
        "combined_r = \" \".join([item.page_content for item in r])"
      ]
    },
    {
      "cell_type": "code",
      "execution_count": null,
      "metadata": {
        "colab": {
          "base_uri": "https://localhost:8080/",
          "height": 539
        },
        "id": "pasMqoxsdvJO",
        "outputId": "fd50f62e-6155-428a-9fa2-f4df2c05c672"
      },
      "outputs": [
        {
          "data": {
            "application/vnd.google.colaboratory.intrinsic+json": {
              "type": "string"
            },
            "text/plain": [
              "'Axis Max Life Smart Secure Plus Plan offers two death benefits. The Smart Secure Plus Plan is designed to fulfil your financial security requirements and provide a dependable support system for emergencies. You also get inbuilt benefits such as cover for terminal illness and a special exit value*.\\nThis term plan also offers an array of optional benefits such as joint life cover, premium breaks, additional payout on accidental death and more. With this plan, your insurance needs are completely covered. It can work as a one-stop solution for your financial security requirements. As the policy buyer, it is best to understand how the policy works to be more aware of your financial decisions.\\n(*This is only applicable for NROP (Pure Protection), Policy Term 40 and above)Axis Max Life Smart Secure Plus PlanA plan that provides comprehensive financial protection.A plan that provides comprehensive financial protection.Based on 22643 usersPLAN BENEFITS₹ 1 CrLife Cover64Critical Illness Cover₹ 46K*Tax SavingsReturn of Premium : Get back all premiums paid on survival till maturityLimited pay option : Pay premium till 60 years for a life cover till 85 years@₹987/Month~Buy NowDisclaimers:\\n~This is applicable for a 24-Year Old Healthy Male, Non-Smoker, 25 Years Policy Term, 25 Year Premium Payment Term (exclusive of GST) for Axis Max Life Smart Secure Plus Plan.\\n*Tax benefits as per prevailing tax laws, subject to change. Save Rs. 46,800 on taxes if the insurance premium amount is Rs.1.5 lakh per annum and you are a regular Individual, falling under 30% income tax slab having taxable income less than Rs. 50 lakh and Opt for Old tax regime. Axis Max Life Smart Secure Plus Plan offers two death benefits. The Smart Secure Plus Plan is designed to fulfil your financial security requirements and provide a dependable support system for emergencies. You also get inbuilt benefits such as cover for terminal illness and a special exit value*.\\nThis term plan also offers an array of optional benefits such as joint life cover, premium breaks, additional payout on accidental death and more. With this plan, your insurance needs are completely covered. It can work as a one-stop solution for your financial security requirements. As the policy buyer, it is best to understand how the policy works to be more aware of your financial decisions.\\n(*This is only applicable for NROP (Pure Protection), Policy Term 40 and above)Axis Max Life Smart Secure Plus PlanA plan that provides comprehensive financial protection.A plan that provides comprehensive financial protection.Based on 22643 usersPLAN BENEFITS₹ 1 CrLife Cover64Critical Illness Cover₹ 46K*Tax SavingsReturn of Premium : Get back all premiums paid on survival till maturityLimited pay option : Pay premium till 60 years for a life cover till 85 years@₹987/Month~Buy NowDisclaimers:\\n~This is applicable for a 24-Year Old Healthy Male, Non-Smoker, 25 Years Policy Term, 25 Year Premium Payment Term (exclusive of GST) for Axis Max Life Smart Secure Plus Plan.\\n*Tax benefits as per prevailing tax laws, subject to change. Save Rs. 46,800 on taxes if the insurance premium amount is Rs.1.5 lakh per annum and you are a regular Individual, falling under 30% income tax slab having taxable income less than Rs. 50 lakh and Opt for Old tax regime. Axis Max Life Smart Secure Plus Plan offers two death benefits. The Smart Secure Plus Plan is designed to fulfil your financial security requirements and provide a dependable support system for emergencies. You also get inbuilt benefits such as cover for terminal illness and a special exit value*.\\nThis term plan also offers an array of optional benefits such as joint life cover, premium breaks, additional payout on accidental death and more. With this plan, your insurance needs are completely covered. It can work as a one-stop solution for your financial security requirements. As the policy buyer, it is best to understand how the policy works to be more aware of your financial decisions.\\n(*This is only applicable for NROP (Pure Protection), Policy Term 40 and above)Axis Max Life Smart Secure Plus PlanA plan that provides comprehensive financial protection.A plan that provides comprehensive financial protection.Based on 22643 usersPLAN BENEFITS₹ 1 CrLife Cover64Critical Illness Cover₹ 46K*Tax SavingsReturn of Premium : Get back all premiums paid on survival till maturityLimited pay option : Pay premium till 60 years for a life cover till 85 years@₹987/Month~Buy NowDisclaimers:\\n~This is applicable for a 24-Year Old Healthy Male, Non-Smoker, 25 Years Policy Term, 25 Year Premium Payment Term (exclusive of GST) for Axis Max Life Smart Secure Plus Plan.\\n*Tax benefits as per prevailing tax laws, subject to change. Save Rs. 46,800 on taxes if the insurance premium amount is Rs.1.5 lakh per annum and you are a regular Individual, falling under 30% income tax slab having taxable income less than Rs. 50 lakh and Opt for Old tax regime. the insured’s demise or upon diagnosis of a terminal illness. The option can only be exercised after a one-year waiting period from the time of policy issuance.Choosing the Right Sum Assured Option for Axis Max Life Smart Secure Plus Plan When it comes to the comprehensive financial protection of your loved ones it is essential that you select the adequate sum assured.Know more\\xa0 on how to decide the sum assured for your term insurance. You can click on the below tabs and choose the adequate sum assured:'"
            ]
          },
          "execution_count": 43,
          "metadata": {},
          "output_type": "execute_result"
        }
      ],
      "source": [
        "combined_r"
      ]
    },
    {
      "cell_type": "code",
      "execution_count": null,
      "metadata": {
        "id": "dOKuDJuZr_rI",
        "colab": {
          "base_uri": "https://localhost:8080/"
        },
        "outputId": "d67be075-1d22-4f66-9bd3-ff3e82746cb4"
      },
      "outputs": [
        {
          "output_type": "stream",
          "name": "stderr",
          "text": [
            "/usr/local/lib/python3.10/dist-packages/IPython/core/interactiveshell.py:3553: LangChainDeprecationWarning: As of langchain-core 0.3.0, LangChain uses pydantic v2 internally. The langchain_core.pydantic_v1 module was a compatibility shim for pydantic v1, and should no longer be used. Please update the code to import from Pydantic directly.\n",
            "\n",
            "For example, replace imports like: `from langchain_core.pydantic_v1 import BaseModel`\n",
            "with: `from pydantic import BaseModel`\n",
            "or the v1 compatibility namespace if you are working in a code base that has not been fully upgraded to pydantic 2 yet. \tfrom pydantic.v1 import BaseModel\n",
            "\n",
            "  exec(code_obj, self.user_global_ns, self.user_ns)\n"
          ]
        }
      ],
      "source": [
        "from typing import Literal\n",
        "from langchain_groq import ChatGroq\n",
        "from langchain_core.prompts import ChatPromptTemplate\n",
        "from langchain_core.pydantic_v1 import BaseModel , Field\n",
        "\n",
        "class RouteQuery(BaseModel):\n",
        "  datasource : Literal['vector-database' , 'google-search' , 'llm'] = Field(\n",
        "      description = \"Given a user query choose whether google-search , vectorstore or the llm would be most relevant for answering the query . if it's a very general question which requires searching on internet then prefer google search and if it's a very specific question regarding the insurance policies or company then prefer the vector database and if it's an instruction that can be performed by the llm then choose llm .\")\n",
        "\n",
        "llm = ChatGroq(groq_api_key=groq_api_key, model_name=\"llama-3.1-8b-instant\")\n",
        "\n",
        "llm_route = llm.with_structured_output(RouteQuery)\n",
        "\n",
        "system = \"\"\"You are an expert at routing a user question to the appropriate data source.\n",
        "          Based on the query route it to the most relevant data source - vectorstore containing information about the company Max life insurance  , insurance policies and plans or google search or llm for following instruction\"\"\"\n",
        "prompt = ChatPromptTemplate([\n",
        "    ('system',system),\n",
        "    ('user','{query}')\n",
        "])\n",
        "\n",
        "Router = prompt | llm_route"
      ]
    },
    {
      "cell_type": "code",
      "execution_count": null,
      "metadata": {
        "id": "7YMqlSISwtut"
      },
      "outputs": [],
      "source": [
        "s = Router.invoke({'query' : \"what is the premium of smart secure plus plan?\"})"
      ]
    },
    {
      "cell_type": "code",
      "execution_count": null,
      "metadata": {
        "colab": {
          "base_uri": "https://localhost:8080/",
          "height": 36
        },
        "id": "GDDcNrUlhlpp",
        "outputId": "0b7374f4-858d-4c16-8d4a-c5a79aca0a97"
      },
      "outputs": [
        {
          "output_type": "execute_result",
          "data": {
            "text/plain": [
              "'vector-database'"
            ],
            "application/vnd.google.colaboratory.intrinsic+json": {
              "type": "string"
            }
          },
          "metadata": {},
          "execution_count": 18
        }
      ],
      "source": [
        "s.datasource"
      ]
    },
    {
      "cell_type": "code",
      "execution_count": null,
      "metadata": {
        "colab": {
          "base_uri": "https://localhost:8080/"
        },
        "id": "OQmD13QowySw",
        "outputId": "3b754b35-d2b1-444c-e00c-b3099fcdfc09"
      },
      "outputs": [
        {
          "output_type": "execute_result",
          "data": {
            "text/plain": [
              "RouteQuery(datasource='vector-database')"
            ]
          },
          "metadata": {},
          "execution_count": 19
        }
      ],
      "source": [
        "Router.invoke({'query' : \"list some retirements plans?\"})"
      ]
    },
    {
      "cell_type": "code",
      "execution_count": null,
      "metadata": {
        "colab": {
          "base_uri": "https://localhost:8080/"
        },
        "id": "kPGSyDH6z48O",
        "outputId": "9f8b8a18-b001-404d-80ea-64010d51f8b4"
      },
      "outputs": [
        {
          "output_type": "execute_result",
          "data": {
            "text/plain": [
              "RouteQuery(datasource='google-search')"
            ]
          },
          "metadata": {},
          "execution_count": 20
        }
      ],
      "source": [
        "Router.invoke({'query' : \"Who is Virat Kohli?\"})"
      ]
    },
    {
      "cell_type": "code",
      "execution_count": null,
      "metadata": {
        "colab": {
          "base_uri": "https://localhost:8080/"
        },
        "id": "gM9ZFxjqz9NK",
        "outputId": "bb41227e-16aa-48c9-a2b2-767e7ab6481a"
      },
      "outputs": [
        {
          "output_type": "execute_result",
          "data": {
            "text/plain": [
              "RouteQuery(datasource='llm')"
            ]
          },
          "metadata": {},
          "execution_count": 21
        }
      ],
      "source": [
        "Router.invoke({'query' : \"schedule a meeting with the agent\"})"
      ]
    },
    {
      "cell_type": "code",
      "execution_count": null,
      "metadata": {
        "id": "hHeDeOAN1TaY"
      },
      "outputs": [],
      "source": [
        "from typing import List\n",
        "from typing_extensions import TypedDict\n",
        "\n",
        "class GraphState(TypedDict):\n",
        "  documents: List[str]\n",
        "  question : str\n",
        "  generation : str\n",
        "  action : str\n",
        "  event_details : str\n",
        "  time_range : dict"
      ]
    },
    {
      "cell_type": "code",
      "execution_count": null,
      "metadata": {
        "id": "xET_oX9l2JvQ"
      },
      "outputs": [],
      "source": [
        "from langchain.schema import Document\n",
        "\n",
        "def vectorstore(state):\n",
        "  print(\"--------Retrieval(vector store)-----------\")\n",
        "  question = state['question']\n",
        "  documents = retriever.invoke(question , search_kwargs = {'k':2})\n",
        "  combined_doc = \" \".join([item.page_content for item in documents])\n",
        "  print('Documnets retrieved')\n",
        "  return {'documents':combined_doc , 'question' : question}\n",
        "\n"
      ]
    },
    {
      "cell_type": "code",
      "execution_count": null,
      "metadata": {
        "id": "XIZmFVw75_zs"
      },
      "outputs": [],
      "source": [
        "# def wiki_search(state):\n",
        "#   print(\"--------Wiki Search-----------\")\n",
        "#   question = state['question']\n",
        "#   documents = wiki.run(question)\n",
        "#   wiki_result = Document(page_content = documents)\n",
        "#   return {'documents':wiki_result , 'question' : question}"
      ]
    },
    {
      "cell_type": "code",
      "execution_count": null,
      "metadata": {
        "colab": {
          "base_uri": "https://localhost:8080/"
        },
        "id": "h1B0rZemN6Vx",
        "outputId": "f1e4a380-0307-4eaa-b2ac-f3ae693e045c"
      },
      "outputs": [
        {
          "data": {
            "text/plain": [
              "Document(metadata={}, page_content='Nodes¶ In LangGraph, nodes are typically python functions (sync or async) where the first positional argument is the state, and (optionally), the second positional argument is a \"config\", containing optional configurable parameters (such as a thread_id). Similar to NetworkX, you add these nodes to a graph using the add_node method:\\nLangGraph Nodes. Nodes are defined as Python functions that can perform a set of actions. For example, a node can integrate with a large language model, process information, call an external API, or any other task. A LangGraph node takes the state of the graph as a parameter and returns an updated state after it is executed.\\nNodes (Tasks): Nodes are like the workstations on the assembly line. Each node performs a specific task on the product. In LangGraph, nodes are Python functions that take the current state, do some work, and return an updated state. Next, we define the nodes, each representing a task in our sandwich-making process.\\nNodes: Nodes are the building blocks of your LangGraph. Each node represents a function or a computation step. You define nodes to perform specific tasks, such as processing input, making\\nIn LangGraph, each node represents an LLM agent, and the edges are the communication channels between these agents. This structure allows for clear and manageable workflows, where each agent performs specific tasks and passes information to other agents as needed. State management. One of LangGraph\\'s standout features is its automatic state')"
            ]
          },
          "execution_count": 109,
          "metadata": {},
          "output_type": "execute_result"
        }
      ],
      "source": [
        "Document(page_content = string)"
      ]
    },
    {
      "cell_type": "code",
      "execution_count": null,
      "metadata": {
        "id": "dl9eDpd4ARIp"
      },
      "outputs": [],
      "source": [
        "def google_search(state):\n",
        "  print(\"--------google_Search-----------\")\n",
        "  question = state['question']\n",
        "  result = search.invoke(question)\n",
        "  combined_result = '\\n'.join([item['content'] for item in result])\n",
        "  print('google_search')\n",
        "  return {'documents':combined_result , 'question' : question}"
      ]
    },
    {
      "cell_type": "code",
      "execution_count": null,
      "metadata": {
        "id": "zPGK51nT7SuE"
      },
      "outputs": [],
      "source": [
        "def router(state):\n",
        "  print(\"-------Routing the query--------\")\n",
        "  question = state['question']\n",
        "  source = Router.invoke({'query' : question})\n",
        "  if source.datasource == 'vector-database':\n",
        "    print(\"----------------Routing Query to Vector Store-----------\")\n",
        "    return 'vectorstore'\n",
        "  elif source.datasource == 'google-search':\n",
        "    print(\"----------------Routing Query to Google-----------\")\n",
        "    return 'google_search'\n",
        "  else:\n",
        "    print(\"----------------Routing Query to LLM-----------\")\n",
        "    return 'llm'"
      ]
    },
    {
      "cell_type": "code",
      "source": [
        "def llm(state):\n",
        "  print(\"--------llm-----------\")\n",
        "  documents = state['documents']\n",
        "  question = state['question']\n",
        "  output = llm.invoke({'context' :documents , 'question' : question})\n",
        "  return {'generation' : output }\n"
      ],
      "metadata": {
        "id": "3-Odm-6A7gE1"
      },
      "execution_count": null,
      "outputs": []
    },
    {
      "cell_type": "code",
      "execution_count": null,
      "metadata": {
        "id": "tT2t9qjmDDcJ"
      },
      "outputs": [],
      "source": [
        "template = \"\"\"Answer the question based only on the following context:\n",
        "{context}\n",
        "\n",
        "Question: {question}\n",
        "\"\"\""
      ]
    },
    {
      "cell_type": "code",
      "execution_count": null,
      "metadata": {
        "id": "U1AyO3hiDnKS"
      },
      "outputs": [],
      "source": [
        "prompt = ChatPromptTemplate.from_template(template)"
      ]
    },
    {
      "cell_type": "code",
      "execution_count": null,
      "metadata": {
        "id": "XP8w3TMrDssY"
      },
      "outputs": [],
      "source": [
        "final_llm = ChatGroq(groq_api_key=groq_api_key, model_name=\"llama-3.3-70b-versatile\")"
      ]
    },
    {
      "cell_type": "code",
      "execution_count": null,
      "metadata": {
        "id": "HHcLt0d-EaBh"
      },
      "outputs": [],
      "source": [
        "from langchain_core.output_parsers import StrOutputParser"
      ]
    },
    {
      "cell_type": "code",
      "execution_count": null,
      "metadata": {
        "id": "TRxz4r2UDv-B"
      },
      "outputs": [],
      "source": [
        "llm_g = prompt | final_llm | StrOutputParser()"
      ]
    },
    {
      "cell_type": "code",
      "execution_count": null,
      "metadata": {
        "id": "O_rzqx4T_26A"
      },
      "outputs": [],
      "source": [
        "def generator(state):\n",
        "  print(\"--------Generation-----------\")\n",
        "  documents = state['documents']\n",
        "  question = state['question']\n",
        "  output = llm_g.invoke({'context' :documents , 'question' : question})\n",
        "  return {'generation' : output }\n"
      ]
    },
    {
      "cell_type": "code",
      "execution_count": null,
      "metadata": {
        "colab": {
          "base_uri": "https://localhost:8080/"
        },
        "id": "HYvr0XdJ9Yay",
        "outputId": "059fab63-7528-47e8-c07c-11a93d6f75ec"
      },
      "outputs": [
        {
          "data": {
            "text/plain": [
              "<langgraph.graph.state.StateGraph at 0x78a4411f76d0>"
            ]
          },
          "execution_count": 74,
          "metadata": {},
          "output_type": "execute_result"
        }
      ],
      "source": [
        "\n",
        "from langgraph.graph import StateGraph , START , END\n",
        "workflow = StateGraph(GraphState)\n",
        "##Defining the nodes\n",
        "workflow.add_node('google_search' , google_search )\n",
        "workflow.add_node('vectorstore' , vectorstore)\n",
        "workflow.add_node('generator' , generator)\n",
        "##Adding conditional edges\n",
        "\n",
        "workflow.add_conditional_edges(\n",
        "    START,\n",
        "    router,\n",
        "     {\n",
        "        'google_search':'google_search' ,\n",
        "        'vectorstore':'vectorstore'\n",
        "    }\n",
        ")\n",
        "\n",
        "workflow.add_edge('vectorstore','generator')\n",
        "workflow.add_edge('google_search','generator')\n",
        "workflow.add_edge('generator',END)\n"
      ]
    },
    {
      "cell_type": "code",
      "execution_count": null,
      "metadata": {
        "id": "QBsy_k2dEuFw"
      },
      "outputs": [],
      "source": [
        "app = workflow.compile(checkpointer= memory)"
      ]
    },
    {
      "cell_type": "code",
      "execution_count": null,
      "metadata": {
        "colab": {
          "base_uri": "https://localhost:8080/",
          "height": 350
        },
        "id": "_A_n-ZEiFwfi",
        "outputId": "86c50a2f-da9c-44c1-90cc-02c3e7914431"
      },
      "outputs": [
        {
          "data": {
            "image/png": "[encoded data removed]",
            "text/plain": [
              "<IPython.core.display.Image object>"
            ]
          },
          "metadata": {},
          "output_type": "display_data"
        }
      ],
      "source": [
        "from IPython.display import Image , display\n",
        "try :\n",
        "  display(Image(app.get_graph().draw_mermaid_png()))\n",
        "except Exception:\n",
        "  pass"
      ]
    },
    {
      "cell_type": "code",
      "execution_count": null,
      "metadata": {
        "id": "sx1wNysimBCC"
      },
      "outputs": [],
      "source": [
        "# from typing import Annotated\n",
        "\n",
        "# from typing_extensions import TypedDict\n",
        "\n",
        "# from langgraph.graph import StateGraph, START, END\n",
        "# from langgraph.graph.message import add_messages\n",
        "\n",
        "\n",
        "# class State(TypedDict):\n",
        "#     # Messages have the type \"list\". The `add_messages` function\n",
        "#     # in the annotation defines how this state key should be updated\n",
        "#     # (in this case, it appends messages to the list, rather than overwriting them)\n",
        "#     messages: Annotated[list, add_messages]\n",
        "\n",
        "\n",
        "# graph_builder = StateGraph(State)"
      ]
    },
    {
      "cell_type": "code",
      "execution_count": null,
      "metadata": {
        "colab": {
          "base_uri": "https://localhost:8080/"
        },
        "id": "QUiWjURKmca2",
        "outputId": "e9b80d36-ea5d-4ba7-c620-bca0aa6e516f"
      },
      "outputs": [
        {
          "data": {
            "text/plain": [
              "<langgraph.graph.state.StateGraph at 0x7964d26af760>"
            ]
          },
          "execution_count": 16,
          "metadata": {},
          "output_type": "execute_result"
        }
      ],
      "source": [
        "# from langchain_groq import ChatGroq\n",
        "# llm =  ChatGroq(groq_api_key=groq_api_key, model_name=\"llama-3.3-70b-versatile\")\n",
        "# llm = llm.bind_tools(tools)\n",
        "\n",
        "\n",
        "# def chatbot(state: State):\n",
        "#     return {\"messages\": [llm.invoke(state[\"messages\"])]}\n",
        "\n",
        "\n",
        "# # The first argument is the unique node name\n",
        "# # The second argument is the function or object that will be called whenever\n",
        "# # the node is used.\n",
        "# graph_builder.add_node(\"chatbot\", chatbot)"
      ]
    },
    {
      "cell_type": "code",
      "execution_count": null,
      "metadata": {
        "colab": {
          "base_uri": "https://localhost:8080/"
        },
        "id": "sqOjcIIyq3KL",
        "outputId": "c6f8a3a7-590c-4db2-950f-ea0ab4cba4c1"
      },
      "outputs": [
        {
          "data": {
            "text/plain": [
              "<langgraph.graph.state.StateGraph at 0x7964d26af760>"
            ]
          },
          "execution_count": 17,
          "metadata": {},
          "output_type": "execute_result"
        }
      ],
      "source": [
        "# import json\n",
        "\n",
        "# from langchain_core.messages import ToolMessage\n",
        "\n",
        "\n",
        "# class BasicToolNode:\n",
        "#     \"\"\"A node that runs the tools requested in the last AIMessage.\"\"\"\n",
        "\n",
        "#     def __init__(self, tools: list) -> None:\n",
        "#         self.tools_by_name = {tool.name: tool for tool in tools}\n",
        "\n",
        "#     def __call__(self, inputs: dict):\n",
        "#         if messages := inputs.get(\"messages\", []):\n",
        "#             message = messages[-1]\n",
        "#         else:\n",
        "#             raise ValueError(\"No message found in input\")\n",
        "#         outputs = []\n",
        "#         for tool_call in message.tool_calls:\n",
        "#             tool_result = self.tools_by_name[tool_call[\"name\"]].invoke(\n",
        "#                 tool_call[\"args\"]\n",
        "#             )\n",
        "#             outputs.append(\n",
        "#                 ToolMessage(\n",
        "#                     content=json.dumps(tool_result),\n",
        "#                     name=tool_call[\"name\"],\n",
        "#                     tool_call_id=tool_call[\"id\"],\n",
        "#                 )\n",
        "#             )\n",
        "#         return {\"messages\": outputs}\n",
        "\n",
        "\n",
        "# tool_node = BasicToolNode(tools=[tool])\n",
        "# graph_builder.add_node(\"tools\", tool_node)"
      ]
    },
    {
      "cell_type": "code",
      "execution_count": null,
      "metadata": {
        "id": "D02ILe5yrFN0"
      },
      "outputs": [],
      "source": [
        "# def route_tools(\n",
        "#     state: State,\n",
        "# ):\n",
        "#     \"\"\"\n",
        "#     Use in the conditional_edge to route to the ToolNode if the last message\n",
        "#     has tool calls. Otherwise, route to the end.\n",
        "#     \"\"\"\n",
        "#     if isinstance(state, list):\n",
        "#         ai_message = state[-1]\n",
        "#     elif messages := state.get(\"messages\", []):\n",
        "#         ai_message = messages[-1]\n",
        "#     else:\n",
        "#         raise ValueError(f\"No messages found in input state to tool_edge: {state}\")\n",
        "#     if hasattr(ai_message, \"tool_calls\") and len(ai_message.tool_calls) > 0:\n",
        "#         return \"tools\"\n",
        "#     return END\n",
        "\n",
        "\n",
        "# # The `tools_condition` function returns \"tools\" if the chatbot asks to use a tool, and \"END\" if\n",
        "# # it is fine directly responding. This conditional routing defines the main agent loop.\n",
        "# graph_builder.add_conditional_edges(\n",
        "#     \"chatbot\",\n",
        "#     route_tools,\n",
        "#     # The following dictionary lets you tell the graph to interpret the condition's outputs as a specific node\n",
        "#     # It defaults to the identity function, but if you\n",
        "#     # want to use a node named something else apart from \"tools\",\n",
        "#     # You can update the value of the dictionary to something else\n",
        "#     # e.g., \"tools\": \"my_tools\"\n",
        "#     {\"tools\": \"tools\", END: END},\n",
        "# )\n",
        "# # Any time a tool is called, we return to the chatbot to decide the next step\n",
        "# graph_builder.add_edge(\"tools\", \"chatbot\")\n",
        "# graph_builder.add_edge(START, \"chatbot\")\n",
        "# graph = graph_builder.compile(checkpointer=memory)"
      ]
    },
    {
      "cell_type": "code",
      "execution_count": null,
      "metadata": {
        "colab": {
          "base_uri": "https://localhost:8080/",
          "height": 266
        },
        "id": "tOYljnB0m1cv",
        "outputId": "04a7aa08-efd1-4d41-9242-e613a826df7e"
      },
      "outputs": [
        {
          "data": {
            "image/png": "[encoded data removed]",
            "text/plain": [
              "<IPython.core.display.Image object>"
            ]
          },
          "metadata": {},
          "output_type": "display_data"
        }
      ],
      "source": [
        "# from IPython.display import Image, display\n",
        "\n",
        "# try:\n",
        "#     display(Image(graph.get_graph().draw_mermaid_png()))\n",
        "# except Exception:\n",
        "#     # This requires some extra dependencies and is optional\n",
        "#     pass"
      ]
    },
    {
      "cell_type": "code",
      "execution_count": null,
      "metadata": {
        "colab": {
          "base_uri": "https://localhost:8080/"
        },
        "id": "QBJc4pO6g5KJ",
        "outputId": "e50ad3fd-9ffd-485e-b3e7-10c0ae2b8a9d"
      },
      "outputs": [
        {
          "name": "stdout",
          "output_type": "stream",
          "text": [
            "-------Routing the query--------\n",
            "----------------Routing Query to Vector Store-----------\n",
            "--------Retrieval(vector store)-----------\n"
          ]
        },
        {
          "name": "stderr",
          "output_type": "stream",
          "text": [
            "WARNING:cassandra.protocol:Server warning: Top-K queries can only be run with consistency level ONE / LOCAL_ONE / NODE_LOCAL. Consistency level LOCAL_QUORUM was requested. Downgrading the consistency level to LOCAL_ONE.\n"
          ]
        },
        {
          "name": "stdout",
          "output_type": "stream",
          "text": [
            "Documnets retrieved\n",
            "{'vectorstore': {'documents': \"Benefits of Axis Max Life Smart Total Elite Protection Term PlanAxis Max Life Smart Total Elite Protection Term Plan offers various benefits that enhance the base coverage offered by the product. The following are some of the key benefits of this plan:1. Death BenefitOn the death of the life insured during the term of the policy, provided the policy is in-force, the insurer will pay the Guaranteed Death Benefit to the beneficiary under the Plan, which is the higher of:\\n\\na. For Single Pay - 1.25 times the Single Premium plus underwriting extra premium if any; For Other Premium Payment Term - 10 times the Annualised Premium* plus underwriting extra premium, if any,\\nb. 105% of Total Premiums paid^ plus underwriting extra premium plus loadings for modal premiums as on the date of death\\nc. Base Sum Assured#\\n\\n\\xa0* 'Annualised Premium' shall be the premium amount payable in a year excluding taxes, rider premiums, underwriting extra premiums and loadings for modal premiums. The Annualised premium remains same irrespective of the premium payment mode.\\n\\xa0^ 'Total Premiums Paid' means total of all the premiums paid under the base product, excluding any extra premium and taxes, if collected explicitly.\\n'Sum Assured on Death' means an absolute amount of benefit which is guaranteed to become payable on death of the life assured in accordance with the terms and conditions of the policy.\\n# 'Sum Assured on Death' is the base sum assured.\\nThe details of benefits under this product are given below:\\n\\nGuaranteed Death Benefit is payable on death of the Life Insured, provided the policy is in-force.\\nAccelerated Benefit capped at Rs 1 crore is payable on diagnosis of Terminal Illness, provided the policy is in-force.\\n\\n\\nBase CoverSize of BenefitsALife Cover\\n\\n            Guaranteed Death Benefit will be paid to the beneficiary on death of the Life Insured. \\n            In case Terminal Illness (TI) Benefit claim has been paid, the Guaranteed Death Benefit amount shall be reduced to the extent of the claim paid out on account of TI Benefit. Benefits of Axis Max Life Smart Total Elite Protection Term PlanAxis Max Life Smart Total Elite Protection Term Plan offers various benefits that enhance the base coverage offered by the product. The following are some of the key benefits of this plan:1. Death BenefitOn the death of the life insured during the term of the policy, provided the policy is in-force, the insurer will pay the Guaranteed Death Benefit to the beneficiary under the Plan, which is the higher of:\\n\\na. For Single Pay - 1.25 times the Single Premium plus underwriting extra premium if any; For Other Premium Payment Term - 10 times the Annualised Premium* plus underwriting extra premium, if any,\\nb. 105% of Total Premiums paid^ plus underwriting extra premium plus loadings for modal premiums as on the date of death\\nc. Base Sum Assured#\\n\\n\\xa0* 'Annualised Premium' shall be the premium amount payable in a year excluding taxes, rider premiums, underwriting extra premiums and loadings for modal premiums. The Annualised premium remains same irrespective of the premium payment mode.\\n\\xa0^ 'Total Premiums Paid' means total of all the premiums paid under the base product, excluding any extra premium and taxes, if collected explicitly.\\n'Sum Assured on Death' means an absolute amount of benefit which is guaranteed to become payable on death of the life assured in accordance with the terms and conditions of the policy.\\n# 'Sum Assured on Death' is the base sum assured.\\nThe details of benefits under this product are given below:\\n\\nGuaranteed Death Benefit is payable on death of the Life Insured, provided the policy is in-force.\\nAccelerated Benefit capped at Rs 1 crore is payable on diagnosis of Terminal Illness, provided the policy is in-force.\\n\\n\\nBase CoverSize of BenefitsALife Cover\\n\\n            Guaranteed Death Benefit will be paid to the beneficiary on death of the Life Insured. \\n            In case Terminal Illness (TI) Benefit claim has been paid, the Guaranteed Death Benefit amount shall be reduced to the extent of the claim paid out on account of TI Benefit. Benefits of Axis Max Life Smart Total Elite Protection Term PlanAxis Max Life Smart Total Elite Protection Term Plan offers various benefits that enhance the base coverage offered by the product. The following are some of the key benefits of this plan:1. Death BenefitOn the death of the life insured during the term of the policy, provided the policy is in-force, the insurer will pay the Guaranteed Death Benefit to the beneficiary under the Plan, which is the higher of:\\n\\na. For Single Pay - 1.25 times the Single Premium plus underwriting extra premium if any; For Other Premium Payment Term - 10 times the Annualised Premium* plus underwriting extra premium, if any,\\nb. 105% of Total Premiums paid^ plus underwriting extra premium plus loadings for modal premiums as on the date of death\\nc. Base Sum Assured#\\n\\n\\xa0* 'Annualised Premium' shall be the premium amount payable in a year excluding taxes, rider premiums, underwriting extra premiums and loadings for modal premiums. The Annualised premium remains same irrespective of the premium payment mode.\\n\\xa0^ 'Total Premiums Paid' means total of all the premiums paid under the base product, excluding any extra premium and taxes, if collected explicitly.\\n'Sum Assured on Death' means an absolute amount of benefit which is guaranteed to become payable on death of the life assured in accordance with the terms and conditions of the policy.\\n# 'Sum Assured on Death' is the base sum assured.\\nThe details of benefits under this product are given below:\\n\\nGuaranteed Death Benefit is payable on death of the Life Insured, provided the policy is in-force.\\nAccelerated Benefit capped at Rs 1 crore is payable on diagnosis of Terminal Illness, provided the policy is in-force.\\n\\n\\nBase CoverSize of BenefitsALife Cover\\n\\n            Guaranteed Death Benefit will be paid to the beneficiary on death of the Life Insured. \\n            In case Terminal Illness (TI) Benefit claim has been paid, the Guaranteed Death Benefit amount shall be reduced to the extent of the claim paid out on account of TI Benefit. Axis Max Life Smart Secure Plus Plan offers two death benefits. The Smart Secure Plus Plan is designed to fulfil your financial security requirements and provide a dependable support system for emergencies. You also get inbuilt benefits such as cover for terminal illness and a special exit value*.\\nThis term plan also offers an array of optional benefits such as joint life cover, premium breaks, additional payout on accidental death and more. With this plan, your insurance needs are completely covered. It can work as a one-stop solution for your financial security requirements. As the policy buyer, it is best to understand how the policy works to be more aware of your financial decisions.\\n(*This is only applicable for NROP (Pure Protection), Policy Term 40 and above)Axis Max Life Smart Secure Plus PlanA plan that provides comprehensive financial protection.A plan that provides comprehensive financial protection.Based on 22643 usersPLAN BENEFITS₹ 1 CrLife Cover64Critical Illness Cover₹ 46K*Tax SavingsReturn of Premium : Get back all premiums paid on survival till maturityLimited pay option : Pay premium till 60 years for a life cover till 85 years@₹987/Month~Buy NowDisclaimers:\\n~This is applicable for a 24-Year Old Healthy Male, Non-Smoker, 25 Years Policy Term, 25 Year Premium Payment Term (exclusive of GST) for Axis Max Life Smart Secure Plus Plan.\\n*Tax benefits as per prevailing tax laws, subject to change. Save Rs. 46,800 on taxes if the insurance premium amount is Rs.1.5 lakh per annum and you are a regular Individual, falling under 30% income tax slab having taxable income less than Rs. 50 lakh and Opt for Old tax regime.\", 'question': 'tell me something about the insurance plans your company Max life insurance offers'}}\n",
            "--------Generation-----------\n",
            "{'generator': {'generation': \"At Max Life Insurance, we offer a range of comprehensive insurance plans to cater to the diverse needs of our customers. Two of our notable plans are the Axis Max Life Smart Total Elite Protection Term Plan and the Axis Max Life Smart Secure Plus Plan.\\n\\nThe Axis Max Life Smart Total Elite Protection Term Plan provides a Guaranteed Death Benefit to the beneficiary in the event of the life insured's death, which is the higher of 1.25 times the Single Premium, 10 times the Annualised Premium, 105% of Total Premiums paid, or the Base Sum Assured. Additionally, it offers an Accelerated Benefit of up to Rs 1 crore in the event of a Terminal Illness diagnosis.\\n\\nOn the other hand, the Axis Max Life Smart Secure Plus Plan is designed to provide comprehensive financial protection and offers a range of benefits, including a life cover of up to Rs 1 crore, critical illness cover, tax savings, and a return of premium on survival till maturity. The plan also offers a limited pay option, where you can pay premiums till the age of 60 for a life cover till 85 years.\\n\\nBoth plans are designed to provide financial security and protection to our customers, and we offer various optional benefits and features to customize the plans according to their individual needs.\"}}\n"
          ]
        }
      ],
      "source": [
        "events = app.stream({'question' : 'tell me something about the insurance plans your company Max life insurance offers'} , {\"configurable\": {\"thread_id\": '2' }} )\n",
        "for event in events:\n",
        "  print(event)\n",
        "  if \"generator\" in event:  # Check if the event contains the generation key\n",
        "        s = event[\"generator\"][\"generation\"]  # Extract the generation part"
      ]
    },
    {
      "cell_type": "code",
      "execution_count": null,
      "metadata": {
        "colab": {
          "base_uri": "https://localhost:8080/",
          "height": 140
        },
        "id": "w3AGNsqkh-44",
        "outputId": "e525d90f-0264-4a18-ebc6-0ee11e886c4c"
      },
      "outputs": [
        {
          "data": {
            "application/vnd.google.colaboratory.intrinsic+json": {
              "type": "string"
            },
            "text/plain": [
              "\"At Max Life Insurance, we offer a range of comprehensive insurance plans to cater to the diverse needs of our customers. Two of our notable plans are the Axis Max Life Smart Total Elite Protection Term Plan and the Axis Max Life Smart Secure Plus Plan.\\n\\nThe Axis Max Life Smart Total Elite Protection Term Plan provides a Guaranteed Death Benefit to the beneficiary in the event of the life insured's death, which is the higher of 1.25 times the Single Premium, 10 times the Annualised Premium, 105% of Total Premiums paid, or the Base Sum Assured. Additionally, it offers an Accelerated Benefit of up to Rs 1 crore in the event of a Terminal Illness diagnosis.\\n\\nOn the other hand, the Axis Max Life Smart Secure Plus Plan is designed to provide comprehensive financial protection and offers a range of benefits, including a life cover of up to Rs 1 crore, critical illness cover, tax savings, and a return of premium on survival till maturity. The plan also offers a limited pay option, where you can pay premiums till the age of 60 for a life cover till 85 years.\\n\\nBoth plans are designed to provide financial security and protection to our customers, and we offer various optional benefits and features to customize the plans according to their individual needs.\""
            ]
          },
          "execution_count": 86,
          "metadata": {},
          "output_type": "execute_result"
        }
      ],
      "source": [
        "s"
      ]
    },
    {
      "cell_type": "code",
      "execution_count": null,
      "metadata": {
        "colab": {
          "base_uri": "https://localhost:8080/",
          "height": 356
        },
        "id": "bRFSPkc7gZ20",
        "outputId": "81f312b9-9573-41a9-a004-6b00e0e8f6bf"
      },
      "outputs": [
        {
          "ename": "InvalidUpdateError",
          "evalue": "Must write to at least one of ['documents', 'question', 'generation']",
          "output_type": "error",
          "traceback": [
            "\u001b[0;31m---------------------------------------------------------------------------\u001b[0m",
            "\u001b[0;31mInvalidUpdateError\u001b[0m                        Traceback (most recent call last)",
            "\u001b[0;32m<ipython-input-58-608b2111e2ac>\u001b[0m in \u001b[0;36m<cell line: 5>\u001b[0;34m()\u001b[0m\n\u001b[1;32m      3\u001b[0m )\n\u001b[1;32m      4\u001b[0m \u001b[0moutput\u001b[0m \u001b[0;34m=\u001b[0m \u001b[0;32mNone\u001b[0m\u001b[0;34m\u001b[0m\u001b[0;34m\u001b[0m\u001b[0m\n\u001b[0;32m----> 5\u001b[0;31m \u001b[0;32mfor\u001b[0m \u001b[0mevent\u001b[0m \u001b[0;32min\u001b[0m \u001b[0mevents\u001b[0m\u001b[0;34m:\u001b[0m\u001b[0;34m\u001b[0m\u001b[0;34m\u001b[0m\u001b[0m\n\u001b[0m\u001b[1;32m      6\u001b[0m     \u001b[0;31m# print(event , 'break')\u001b[0m\u001b[0;34m\u001b[0m\u001b[0;34m\u001b[0m\u001b[0m\n\u001b[1;32m      7\u001b[0m     \u001b[0moutput\u001b[0m \u001b[0;34m=\u001b[0m  \u001b[0mevent\u001b[0m\u001b[0;34m\u001b[0m\u001b[0;34m\u001b[0m\u001b[0m\n",
            "\u001b[0;32m/usr/local/lib/python3.10/dist-packages/langgraph/pregel/__init__.py\u001b[0m in \u001b[0;36mstream\u001b[0;34m(self, input, config, stream_mode, output_keys, interrupt_before, interrupt_after, debug, subgraphs)\u001b[0m\n\u001b[1;32m   1658\u001b[0m                 \u001b[0;31m# with channel updates applied only at the transition between steps\u001b[0m\u001b[0;34m\u001b[0m\u001b[0;34m\u001b[0m\u001b[0m\n\u001b[1;32m   1659\u001b[0m                 \u001b[0;32mwhile\u001b[0m \u001b[0mloop\u001b[0m\u001b[0;34m.\u001b[0m\u001b[0mtick\u001b[0m\u001b[0;34m(\u001b[0m\u001b[0minput_keys\u001b[0m\u001b[0;34m=\u001b[0m\u001b[0mself\u001b[0m\u001b[0;34m.\u001b[0m\u001b[0minput_channels\u001b[0m\u001b[0;34m)\u001b[0m\u001b[0;34m:\u001b[0m\u001b[0;34m\u001b[0m\u001b[0;34m\u001b[0m\u001b[0m\n\u001b[0;32m-> 1660\u001b[0;31m                     for _ in runner.tick(\n\u001b[0m\u001b[1;32m   1661\u001b[0m                         \u001b[0mloop\u001b[0m\u001b[0;34m.\u001b[0m\u001b[0mtasks\u001b[0m\u001b[0;34m.\u001b[0m\u001b[0mvalues\u001b[0m\u001b[0;34m(\u001b[0m\u001b[0;34m)\u001b[0m\u001b[0;34m,\u001b[0m\u001b[0;34m\u001b[0m\u001b[0;34m\u001b[0m\u001b[0m\n\u001b[1;32m   1662\u001b[0m                         \u001b[0mtimeout\u001b[0m\u001b[0;34m=\u001b[0m\u001b[0mself\u001b[0m\u001b[0;34m.\u001b[0m\u001b[0mstep_timeout\u001b[0m\u001b[0;34m,\u001b[0m\u001b[0;34m\u001b[0m\u001b[0;34m\u001b[0m\u001b[0m\n",
            "\u001b[0;32m/usr/local/lib/python3.10/dist-packages/langgraph/pregel/runner.py\u001b[0m in \u001b[0;36mtick\u001b[0;34m(self, tasks, reraise, timeout, retry_policy, get_waiter)\u001b[0m\n\u001b[1;32m    165\u001b[0m             \u001b[0mt\u001b[0m \u001b[0;34m=\u001b[0m \u001b[0mtasks\u001b[0m\u001b[0;34m[\u001b[0m\u001b[0;36m0\u001b[0m\u001b[0;34m]\u001b[0m\u001b[0;34m\u001b[0m\u001b[0;34m\u001b[0m\u001b[0m\n\u001b[1;32m    166\u001b[0m             \u001b[0;32mtry\u001b[0m\u001b[0;34m:\u001b[0m\u001b[0;34m\u001b[0m\u001b[0;34m\u001b[0m\u001b[0m\n\u001b[0;32m--> 167\u001b[0;31m                 run_with_retry(\n\u001b[0m\u001b[1;32m    168\u001b[0m                     \u001b[0mt\u001b[0m\u001b[0;34m,\u001b[0m\u001b[0;34m\u001b[0m\u001b[0;34m\u001b[0m\u001b[0m\n\u001b[1;32m    169\u001b[0m                     \u001b[0mretry_policy\u001b[0m\u001b[0;34m,\u001b[0m\u001b[0;34m\u001b[0m\u001b[0;34m\u001b[0m\u001b[0m\n",
            "\u001b[0;32m/usr/local/lib/python3.10/dist-packages/langgraph/pregel/retry.py\u001b[0m in \u001b[0;36mrun_with_retry\u001b[0;34m(task, retry_policy, configurable)\u001b[0m\n\u001b[1;32m     38\u001b[0m             \u001b[0mtask\u001b[0m\u001b[0;34m.\u001b[0m\u001b[0mwrites\u001b[0m\u001b[0;34m.\u001b[0m\u001b[0mclear\u001b[0m\u001b[0;34m(\u001b[0m\u001b[0;34m)\u001b[0m\u001b[0;34m\u001b[0m\u001b[0;34m\u001b[0m\u001b[0m\n\u001b[1;32m     39\u001b[0m             \u001b[0;31m# run the task\u001b[0m\u001b[0;34m\u001b[0m\u001b[0;34m\u001b[0m\u001b[0m\n\u001b[0;32m---> 40\u001b[0;31m             \u001b[0;32mreturn\u001b[0m \u001b[0mtask\u001b[0m\u001b[0;34m.\u001b[0m\u001b[0mproc\u001b[0m\u001b[0;34m.\u001b[0m\u001b[0minvoke\u001b[0m\u001b[0;34m(\u001b[0m\u001b[0mtask\u001b[0m\u001b[0;34m.\u001b[0m\u001b[0minput\u001b[0m\u001b[0;34m,\u001b[0m \u001b[0mconfig\u001b[0m\u001b[0;34m)\u001b[0m\u001b[0;34m\u001b[0m\u001b[0;34m\u001b[0m\u001b[0m\n\u001b[0m\u001b[1;32m     41\u001b[0m         \u001b[0;32mexcept\u001b[0m \u001b[0mParentCommand\u001b[0m \u001b[0;32mas\u001b[0m \u001b[0mexc\u001b[0m\u001b[0;34m:\u001b[0m\u001b[0;34m\u001b[0m\u001b[0;34m\u001b[0m\u001b[0m\n\u001b[1;32m     42\u001b[0m             \u001b[0mns\u001b[0m\u001b[0;34m:\u001b[0m \u001b[0mstr\u001b[0m \u001b[0;34m=\u001b[0m \u001b[0mconfig\u001b[0m\u001b[0;34m[\u001b[0m\u001b[0mCONF\u001b[0m\u001b[0;34m]\u001b[0m\u001b[0;34m[\u001b[0m\u001b[0mCONFIG_KEY_CHECKPOINT_NS\u001b[0m\u001b[0;34m]\u001b[0m\u001b[0;34m\u001b[0m\u001b[0;34m\u001b[0m\u001b[0m\n",
            "\u001b[0;32m/usr/local/lib/python3.10/dist-packages/langgraph/utils/runnable.py\u001b[0m in \u001b[0;36minvoke\u001b[0;34m(self, input, config, **kwargs)\u001b[0m\n\u001b[1;32m    406\u001b[0m                 )\n\u001b[1;32m    407\u001b[0m                 \u001b[0;32mif\u001b[0m \u001b[0mi\u001b[0m \u001b[0;34m==\u001b[0m \u001b[0;36m0\u001b[0m\u001b[0;34m:\u001b[0m\u001b[0;34m\u001b[0m\u001b[0;34m\u001b[0m\u001b[0m\n\u001b[0;32m--> 408\u001b[0;31m                     \u001b[0minput\u001b[0m \u001b[0;34m=\u001b[0m \u001b[0mstep\u001b[0m\u001b[0;34m.\u001b[0m\u001b[0minvoke\u001b[0m\u001b[0;34m(\u001b[0m\u001b[0minput\u001b[0m\u001b[0;34m,\u001b[0m \u001b[0mconfig\u001b[0m\u001b[0;34m,\u001b[0m \u001b[0;34m**\u001b[0m\u001b[0mkwargs\u001b[0m\u001b[0;34m)\u001b[0m\u001b[0;34m\u001b[0m\u001b[0;34m\u001b[0m\u001b[0m\n\u001b[0m\u001b[1;32m    409\u001b[0m                 \u001b[0;32melse\u001b[0m\u001b[0;34m:\u001b[0m\u001b[0;34m\u001b[0m\u001b[0;34m\u001b[0m\u001b[0m\n\u001b[1;32m    410\u001b[0m                     \u001b[0minput\u001b[0m \u001b[0;34m=\u001b[0m \u001b[0mstep\u001b[0m\u001b[0;34m.\u001b[0m\u001b[0minvoke\u001b[0m\u001b[0;34m(\u001b[0m\u001b[0minput\u001b[0m\u001b[0;34m,\u001b[0m \u001b[0mconfig\u001b[0m\u001b[0;34m)\u001b[0m\u001b[0;34m\u001b[0m\u001b[0;34m\u001b[0m\u001b[0m\n",
            "\u001b[0;32m/usr/local/lib/python3.10/dist-packages/langgraph/utils/runnable.py\u001b[0m in \u001b[0;36minvoke\u001b[0;34m(self, input, config, **kwargs)\u001b[0m\n\u001b[1;32m    174\u001b[0m                 \u001b[0mcontext\u001b[0m \u001b[0;34m=\u001b[0m \u001b[0mcopy_context\u001b[0m\u001b[0;34m(\u001b[0m\u001b[0;34m)\u001b[0m\u001b[0;34m\u001b[0m\u001b[0;34m\u001b[0m\u001b[0m\n\u001b[1;32m    175\u001b[0m                 \u001b[0mcontext\u001b[0m\u001b[0;34m.\u001b[0m\u001b[0mrun\u001b[0m\u001b[0;34m(\u001b[0m\u001b[0m_set_config_context\u001b[0m\u001b[0;34m,\u001b[0m \u001b[0mchild_config\u001b[0m\u001b[0;34m)\u001b[0m\u001b[0;34m\u001b[0m\u001b[0;34m\u001b[0m\u001b[0m\n\u001b[0;32m--> 176\u001b[0;31m                 \u001b[0mret\u001b[0m \u001b[0;34m=\u001b[0m \u001b[0mcontext\u001b[0m\u001b[0;34m.\u001b[0m\u001b[0mrun\u001b[0m\u001b[0;34m(\u001b[0m\u001b[0mself\u001b[0m\u001b[0;34m.\u001b[0m\u001b[0mfunc\u001b[0m\u001b[0;34m,\u001b[0m \u001b[0minput\u001b[0m\u001b[0;34m,\u001b[0m \u001b[0;34m**\u001b[0m\u001b[0mkwargs\u001b[0m\u001b[0;34m)\u001b[0m\u001b[0;34m\u001b[0m\u001b[0;34m\u001b[0m\u001b[0m\n\u001b[0m\u001b[1;32m    177\u001b[0m             \u001b[0;32mexcept\u001b[0m \u001b[0mBaseException\u001b[0m \u001b[0;32mas\u001b[0m \u001b[0me\u001b[0m\u001b[0;34m:\u001b[0m\u001b[0;34m\u001b[0m\u001b[0;34m\u001b[0m\u001b[0m\n\u001b[1;32m    178\u001b[0m                 \u001b[0mrun_manager\u001b[0m\u001b[0;34m.\u001b[0m\u001b[0mon_chain_error\u001b[0m\u001b[0;34m(\u001b[0m\u001b[0me\u001b[0m\u001b[0;34m)\u001b[0m\u001b[0;34m\u001b[0m\u001b[0;34m\u001b[0m\u001b[0m\n",
            "\u001b[0;32m/usr/local/lib/python3.10/dist-packages/langgraph/pregel/write.py\u001b[0m in \u001b[0;36m_write\u001b[0;34m(self, input, config)\u001b[0m\n\u001b[1;32m     94\u001b[0m             \u001b[0;32mfor\u001b[0m \u001b[0mwrite\u001b[0m \u001b[0;32min\u001b[0m \u001b[0mself\u001b[0m\u001b[0;34m.\u001b[0m\u001b[0mwrites\u001b[0m\u001b[0;34m\u001b[0m\u001b[0;34m\u001b[0m\u001b[0m\n\u001b[1;32m     95\u001b[0m         ]\n\u001b[0;32m---> 96\u001b[0;31m         self.do_write(\n\u001b[0m\u001b[1;32m     97\u001b[0m             \u001b[0mconfig\u001b[0m\u001b[0;34m,\u001b[0m\u001b[0;34m\u001b[0m\u001b[0;34m\u001b[0m\u001b[0m\n\u001b[1;32m     98\u001b[0m             \u001b[0mwrites\u001b[0m\u001b[0;34m,\u001b[0m\u001b[0;34m\u001b[0m\u001b[0;34m\u001b[0m\u001b[0m\n",
            "\u001b[0;32m/usr/local/lib/python3.10/dist-packages/langgraph/pregel/write.py\u001b[0m in \u001b[0;36mdo_write\u001b[0;34m(config, writes, require_at_least_one_of)\u001b[0m\n\u001b[1;32m    155\u001b[0m         \u001b[0;32mif\u001b[0m \u001b[0mrequire_at_least_one_of\u001b[0m \u001b[0;32mis\u001b[0m \u001b[0;32mnot\u001b[0m \u001b[0;32mNone\u001b[0m\u001b[0;34m:\u001b[0m\u001b[0;34m\u001b[0m\u001b[0;34m\u001b[0m\u001b[0m\n\u001b[1;32m    156\u001b[0m             \u001b[0;32mif\u001b[0m \u001b[0;32mnot\u001b[0m \u001b[0;34m{\u001b[0m\u001b[0mchan\u001b[0m \u001b[0;32mfor\u001b[0m \u001b[0mchan\u001b[0m\u001b[0;34m,\u001b[0m \u001b[0m_\u001b[0m \u001b[0;32min\u001b[0m \u001b[0mtuples\u001b[0m\u001b[0;34m}\u001b[0m \u001b[0;34m&\u001b[0m \u001b[0mset\u001b[0m\u001b[0;34m(\u001b[0m\u001b[0mrequire_at_least_one_of\u001b[0m\u001b[0;34m)\u001b[0m\u001b[0;34m:\u001b[0m\u001b[0;34m\u001b[0m\u001b[0;34m\u001b[0m\u001b[0m\n\u001b[0;32m--> 157\u001b[0;31m                 raise InvalidUpdateError(\n\u001b[0m\u001b[1;32m    158\u001b[0m                     \u001b[0;34mf\"Must write to at least one of {require_at_least_one_of}\"\u001b[0m\u001b[0;34m\u001b[0m\u001b[0;34m\u001b[0m\u001b[0m\n\u001b[1;32m    159\u001b[0m                 )\n",
            "\u001b[0;31mInvalidUpdateError\u001b[0m: Must write to at least one of ['documents', 'question', 'generation']"
          ]
        }
      ],
      "source": [
        "events = app.stream(\n",
        "  {\"messages\": [(\"user\", 'tell me something about the insurance plans your company Max life insurance offers')]}, {\"configurable\": {\"thread_id\": '1' }}, stream_mode=\"values\"\n",
        ")\n",
        "output = None\n",
        "for event in events:\n",
        "    # print(event , 'break')\n",
        "    output =  event\n",
        "llm_output = [message.content for message in output['messages'] if isinstance(message, AIMessage)][-1]"
      ]
    },
    {
      "cell_type": "code",
      "execution_count": null,
      "metadata": {
        "id": "1HzB-rGyjPep"
      },
      "outputs": [],
      "source": [
        "def generate_response(user_input , thread_id = \"111\"):\n",
        "  events = app.stream({'question' : user_input} , {\"configurable\": {\"thread_id\": thread_id }} )\n",
        "  for event in events:\n",
        "    print(event)\n",
        "    if \"generator\" in event:  # Check if the event contains the generation key\n",
        "          s = event[\"generator\"][\"generation\"]  # Extract the generation part\n",
        "  return s"
      ]
    },
    {
      "cell_type": "code",
      "execution_count": null,
      "metadata": {
        "id": "yQhWcfpb4aLl"
      },
      "outputs": [],
      "source": [
        "# from langchain_core.messages import AIMessage\n",
        "# def generate_response(user_input , thread_id = \"1\"):\n",
        "#   # The config is the **second positional argument** to stream() or invoke()!\n",
        "#   events = graph.stream(\n",
        "#     {\"messages\": [(\"user\", user_input)]}, {\"configurable\": {\"thread_id\": thread_id }}, stream_mode=\"values\"\n",
        "#   )\n",
        "#   output = None\n",
        "#   for event in events:\n",
        "#       # print(event , 'break')\n",
        "#       output =  event\n",
        "#   llm_output = [message.content for message in output['messages'] if isinstance(message, AIMessage)][-1]\n",
        "#   return llm_output"
      ]
    },
    {
      "cell_type": "code",
      "execution_count": null,
      "metadata": {
        "colab": {
          "base_uri": "https://localhost:8080/"
        },
        "id": "ubZj1hw0JNqh",
        "outputId": "dcee7be4-184f-46e0-dd12-bdea37720f44"
      },
      "outputs": [
        {
          "name": "stdout",
          "output_type": "stream",
          "text": [
            "-------Routing the query--------\n",
            "----------------Routing Query to Google-----------\n",
            "--------google_Search-----------\n",
            "google_search\n",
            "{'google_search': {'documents': 'Obama signed the Affordable Care Act (ACA) into law in 2010, aiming to provide affordable health insurance to millions of Americans. He ordered the military operation that led to the death of Osama bin Laden in 2011. Obama signed the Dodd-Frank Wall Street Reform and Consumer Protection Act in 2010 to prevent another financial crisis.\\nEarly Life and Education. Barack Obama, the 44th President of the United States, has a fascinating background that shaped his path to the White House.Let\\'s explore some intriguing facts about his early life and education.. Born on August 4, 1961, in Honolulu, Hawaii, Obama is the first U.S. president born outside the continental United States. His full name is Barack Hussein Obama II, named\\nBarack Obama, the 44th president of the United States, holds a special place in history as the first African-American president of the country. Read on to discover 53 interesting facts about Barack Obama, both political and personal. Childhood. 1. Barack Hussein Obama Jr. was born on August 4, 1961, in Honolulu, Hawaii.\\nAs in the primaries, Obama’s campaign worked to build support at the grassroots level and used what supporters saw as the candidate’s natural charisma, unusual life story and inspiring message of hope and change to draw impressive crowds to Obama’s public appearances, both in the U.S. and on a campaign trip abroad. A winner of the 2009 Nobel Peace Prize, Obama’s presidency was marked by the landmark passage of the Affordable Care Act, or “Obamacare”; the killing of Osama bin Laden by Seal Team Six; the Iran Nuclear Deal and the legalization of gay marriage by the Supreme Court.\\n A victory in the Iowa primary made him a viable challenger to the early frontrunner, the former first lady and current New York Senator Hillary Clinton, whom he outlasted in a grueling primary campaign to claim the Democratic nomination in early June 2008.\\n Barack Obama\\nBy: History.com Editors\\nUpdated: May 19, 2022\\n| Original: November 9, 2009\\nTable of Contents\\nBarack Obama, the 44th president of the United States and the first African American president, was elected over Senator John McCain of Arizona on November 4, 2008. He won a scholarship to study economics at the University of Hawaii, where he met and married Ann Dunham, a white woman from Wichita, Kansas, whose father had worked on oil rigs during the Great Depression and fought with the U.S. Army in World War II before moving his family to Hawaii in 1959.\\nBarack Obama: Facts & Related Content Barack Obama served as the 44th president of the United States (2009–17) and was the first African American to hold that post. Published Works \"Of Thee I Sing: A Letter to My Daughters\" (2010) • \"Our Enduring Spirit: President Barack Obama\\'s First Words to America\" (2009) • \"The Audacity of Hope: Thoughts on Reclaiming the American Dream\" (2006) • \"Dreams from My Father\" (1995) When did Barack Obama become president? During his presidency some claimed that Barack Obama was not born in the United States, which, according to the U.S. Constitution, would make him unable to serve as president. In 2012, Barack Obama became the first U.S. president to officially sanction same-sex marriage. United States: The Barack Obama administration', 'question': 'tell me about obama'}}\n",
            "--------Generation-----------\n",
            "{'generator': {'generation': 'Barack Obama is the 44th President of the United States and the first African American to hold that post. He was born on August 4, 1961, in Honolulu, Hawaii, making him the first U.S. president born outside the continental United States. His full name is Barack Hussein Obama II.\\n\\nDuring his presidency, which spanned from 2009 to 2017, Obama achieved several notable accomplishments. He signed the Affordable Care Act (ACA) into law in 2010, aiming to provide affordable health insurance to millions of Americans. He also ordered the military operation that led to the death of Osama bin Laden in 2011 and signed the Dodd-Frank Wall Street Reform and Consumer Protection Act in 2010 to prevent another financial crisis.\\n\\nObama was awarded the Nobel Peace Prize in 2009 and is also known for his support of same-sex marriage, becoming the first U.S. president to officially sanction it in 2012. He has written several books, including \"Dreams from My Father,\" \"The Audacity of Hope,\" and \"Of Thee I Sing: A Letter to My Daughters.\"\\n\\nObama was elected president on November 4, 2008, defeating Senator John McCain of Arizona. He won the Democratic nomination in June 2008 after a grueling primary campaign against Hillary Clinton. Despite some claims that he was not born in the United States, Obama\\'s birth in Hawaii has been verified, and he is widely recognized as a legitimate president.'}}\n"
          ]
        }
      ],
      "source": [
        "result = generate_response('tell me about obama')"
      ]
    },
    {
      "cell_type": "code",
      "execution_count": null,
      "metadata": {
        "colab": {
          "base_uri": "https://localhost:8080/"
        },
        "id": "KPcCDzIt90eG",
        "outputId": "5fd9ea28-c606-4a21-e4f1-d58a87c5de90"
      },
      "outputs": [
        {
          "name": "stdout",
          "output_type": "stream",
          "text": [
            "-------Routing the query--------\n",
            "----------------Routing Query to Google-----------\n",
            "--------google_Search-----------\n",
            "google_search\n",
            "{'google_search': {'documents': 'Warren Buffett (born August 30, 1930, Omaha, Nebraska, U.S.) is an American businessman and philanthropist, widely considered the most successful investor of the 20th and early 21st centuries, having defied prevailing investment trends to amass a personal fortune of more than $100 billion.. Known as the \"Oracle of Omaha,\" Buffett was the son of U.S. Rep. Howard Homan Buffett from Nebraska.\\nWarren Buffett is an investment phenomenon unlikely to be repeated soon, but that doesn\\'t mean investors can\\'t incorporate his principles into their investments. The willingness to identify\\nA keen mind for business. Born in 1930 to congressman and stockbroker Howard Buffett, Warren took a keen interest in business early in life. He made his first investment as a 14-year-old, using up his savings from selling soft drinks and newspapers to buy 40 acres of land, which he then rented.\\nCLICK HERE AND TELL US. WE\\'LL MAKE SURE THEY\\'RE HERE A.S.A.P. Quick Facts. Also Known As: Warren Edward Buffett. Age: 94 Years, 94 Year Old Males. Family: ... Warren Buffett worked at his father\\'s company, Buffett-Falk & Co. from 1951 to 1954, as an investment salesman. By the age of 20, he had already amassed savings worth almost $10,000 in\\nWarren Edward Buffett was born on August 30, 1930 to his father Howard, a stockbroker-turned-Congressman. The only boy, he was the second of three children, and displayed an amazing aptitude for both money and business at a very early age. Acquaintances recount his uncanny ability to calculate columns of numbers off the top of his head - a', 'question': 'tell me who is warren buffet'}}\n",
            "--------Generation-----------\n",
            "{'generator': {'generation': 'Warren Buffett is an American businessman and philanthropist, widely considered the most successful investor of the 20th and early 21st centuries. He was born on August 30, 1930, in Omaha, Nebraska, to U.S. Rep. Howard Homan Buffett. Buffett is known as the \"Oracle of Omaha\" and has amassed a personal fortune of more than $100 billion. He is known for his keen mind for business and made his first investment at the age of 14.'}}\n"
          ]
        }
      ],
      "source": [
        "g = generate_response(\"tell me who is warren buffet\",\"21\")"
      ]
    },
    {
      "cell_type": "code",
      "execution_count": null,
      "metadata": {
        "colab": {
          "base_uri": "https://localhost:8080/"
        },
        "id": "RnRU7nzUEGIL",
        "outputId": "b4fdf40f-b83d-4739-d978-7af5805b0fd3"
      },
      "outputs": [
        {
          "name": "stdout",
          "output_type": "stream",
          "text": [
            "Warren Buffett is an American businessman and philanthropist, widely considered the most successful investor of the 20th and early 21st centuries. He was born on August 30, 1930, in Omaha, Nebraska, to U.S. Rep. Howard Homan Buffett. Buffett is known as the \"Oracle of Omaha\" and has amassed a personal fortune of more than $100 billion. He is known for his keen mind for business and made his first investment at the age of 14.\n"
          ]
        }
      ],
      "source": [
        "print(g)"
      ]
    },
    {
      "cell_type": "code",
      "execution_count": null,
      "metadata": {
        "id": "jn-bFbCmD0I-"
      },
      "outputs": [],
      "source": [
        "llm_output = [message.content for message in g['messages'] if isinstance(message, AIMessage)]"
      ]
    },
    {
      "cell_type": "code",
      "execution_count": null,
      "metadata": {
        "colab": {
          "base_uri": "https://localhost:8080/"
        },
        "id": "_BTDkIY2FejI",
        "outputId": "4bf6959e-faac-4099-b9aa-83d3a7e67326"
      },
      "outputs": [
        {
          "data": {
            "text/plain": [
              "['',\n",
              " 'It appears that the function call to \\'tavily_search_results_json\\' with the query \"hy llama\" returned some results, but they seem to be incomplete. The function call result has missing information, especially in the section that usually includes explanations and news about current events.\\n\\nThe results are related to the phrase \"hy llama\", which seems to be a reference to a brand or a product related to llamas, possibly a coffee cup or a gift.\\n\\nIf you need more information or a more comprehensive answer, please try the function call again or use a different search engine.',\n",
              " '',\n",
              " 'The results returned from \\'tavily_search_results_json\\' with the query \"hy\" include information about a grocery store called Hy-Vee.',\n",
              " '',\n",
              " \"AlphaFold is an AI system developed by Google DeepMind that predicts a protein's 3D structure from its amino acid sequence. It regularly achieves accuracy competitive with experiment.\"]"
            ]
          },
          "execution_count": 82,
          "metadata": {},
          "output_type": "execute_result"
        }
      ],
      "source": [
        "llm_output"
      ]
    },
    {
      "cell_type": "code",
      "execution_count": null,
      "metadata": {
        "id": "F2lzSg82_VIx"
      },
      "outputs": [],
      "source": [
        "def text_to_speech(text):\n",
        "    tts = gTTS(text)\n",
        "    output_audio = NamedTemporaryFile(suffix=\".mp3\", delete=False)\n",
        "    tts.save(output_audio.name)\n",
        "    return output_audio.name"
      ]
    },
    {
      "cell_type": "code",
      "execution_count": null,
      "metadata": {
        "id": "mPqYCjqd7Q8k"
      },
      "outputs": [],
      "source": [
        "# import time\n",
        "\n",
        "# # Start the timer\n",
        "# start_time = time.time()\n",
        "\n",
        "# # Code block to measure\n",
        "# text_to_speech('hy my name is vivek')\n",
        "\n",
        "# # End the timer\n",
        "# end_time = time.time()\n",
        "\n",
        "# # Calculate the execution time\n",
        "# execution_time = end_time - start_time\n",
        "# print(execution_time)\n"
      ]
    },
    {
      "cell_type": "code",
      "execution_count": null,
      "metadata": {
        "id": "q3PkIESY7oi-"
      },
      "outputs": [],
      "source": [
        "# import time\n",
        "\n",
        "# # Start the timer\n",
        "# start_time = time.time()\n",
        "\n",
        "# # Code block to measure\n",
        "# speech_to_text('/content/my name is will.m4a')\n",
        "\n",
        "# # End the timer\n",
        "# end_time = time.time()\n",
        "\n",
        "# # Calculate the execution time\n",
        "# execution_time = end_time - start_time\n",
        "# print(execution_time)\n"
      ]
    },
    {
      "cell_type": "code",
      "execution_count": null,
      "metadata": {
        "id": "xfIwLniUAryG"
      },
      "outputs": [],
      "source": [
        "import random\n",
        "def chatbot_pipeline(audio_path = None):\n",
        "    if audio_path is None:\n",
        "        thread = random.randint(-1_000_000_000, 1_000_000_000)\n",
        "        thread_id = str(thread)\n",
        "        prompt = '''Role Description:\n",
        "                    You are , a friendly and knowledgeable sales agent representing Lifelong Insurance Ltd.,\n",
        "                    a trusted provider of insurance solutions. Your goal is to assist potential customers by explaining the benefits of Lifelong's insurance policies,\n",
        "                    understanding their specific needs, and helping them choose the right coverage. Be professional, persuasive, and approachable, tailoring your responses to the user's concerns\n",
        "                    Insurance Policies You Offer:\n",
        "                    Life Insurance Plans:\n",
        "\n",
        "                    Term Life Insurance: Affordable coverage for a fixed term, ensuring financial security for loved ones.\n",
        "                    Whole Life Insurance: Lifelong coverage with savings benefits and guaranteed payouts.\n",
        "                    Endowment Plans: Dual benefit of life cover and wealth creation.\n",
        "                    Health Insurance Plans:\n",
        "\n",
        "                    Individual Health Insurance: Comprehensive coverage for hospitalization and medical expenses.\n",
        "                    Family Floater Plans: Covers the entire family under a single policy.\n",
        "                    Critical Illness Insurance: Provides a lump sum benefit for severe medical conditions like cancer or heart disease.\n",
        "                    Retirement and Pension Plans:\n",
        "\n",
        "                    Annuity Plans: Ensure a steady income post-retirement.\n",
        "                    Deferred Pension Plans: Start saving now for a secure retirement.\n",
        "                    Child Insurance Plans:\n",
        "\n",
        "                    Savings-focused plans to secure your child’s education and future needs.\n",
        "                    Vehicle Insurance:\n",
        "\n",
        "                    Coverage for cars, bikes, and other vehicles to protect against accidents, theft, and damages.\n",
        "                    Home Insurance:\n",
        "\n",
        "                    Protection for your home and belongings against natural disasters, theft, and accidents.\n",
        "                    Travel Insurance:\n",
        "\n",
        "                    Safeguard your trips with coverage for medical emergencies, cancellations, and lost luggage.\n",
        "                    Key Features of Your Service:\n",
        "                    Customizable Plans: Tailor insurance policies to suit the user's needs and budget.\n",
        "                    Claim Assistance: Simplified and hassle-free claims process.\n",
        "                    24/7 Customer Support: Always available for queries and support.\n",
        "                    Discounts and Bonuses: Attractive premiums and loyalty rewards.\n",
        "                    Conversation Style:\n",
        "                    Greet warmly: Start with “Hi there, I’m Will from Lifelong Insurance Ltd.! How can I assist you today?”\n",
        "                    Ask open-ended questions: “What’s your primary concern—financial security, health coverage, or something else?”\n",
        "                    Provide clear , short and to the point explanations: “Our Term Life Insurance is a great option for ensuring your family’s future at a low cost.”\n",
        "                    Handle objections professionally: “I understand your concerns about cost, but let me show you how affordable our plans can be.”'''\n",
        "        response_text = generate_response(prompt , thread_id)\n",
        "        response_audio_path = text_to_speech(response_text)\n",
        "        return response_text , response_audio_path\n",
        "    else:\n",
        "      try:\n",
        "          # Step 1: Convert speech to text\n",
        "          text_input = speech_to_text(audio_path)\n",
        "          print(text_input)\n",
        "          # Step 2: Get response from LLaMA model\n",
        "          response_text = generate_response(text_input , thread_id)\n",
        "          print(response_text)\n",
        "          # Step 3: Convert response text to speech\n",
        "          response_audio_path = text_to_speech(response_text)\n",
        "\n",
        "          return response_text, response_audio_path\n",
        "\n",
        "      except Exception as e:\n",
        "          return str(e), None"
      ]
    },
    {
      "cell_type": "code",
      "execution_count": null,
      "metadata": {
        "colab": {
          "base_uri": "https://localhost:8080/"
        },
        "id": "hCTuV5VVIzPL",
        "outputId": "eb5a28e8-da04-41d7-ddfd-48a502d35455"
      },
      "outputs": [
        {
          "name": "stdout",
          "output_type": "stream",
          "text": [
            " Tell me something about Obama.\n",
            "The information provided suggests that Barack Obama is the 44th President of the United States and the first African American president. He was elected on November 4, 2008, and served two terms in office. During his presidency, he passed several significant laws, including the Affordable Care Act, also known as \"Obamacare.\" He also played a key role in the killing of Osama bin Laden and the Iran Nuclear Deal. Obama's biography is marked by his middle-class upbringing, hard work, and education, as well as his commitment to public service. He is married to Michelle Obama, and their story is seen as an American success story.\n"
          ]
        }
      ],
      "source": [
        "x , y = chatbot_pipeline('/obama.m4a')"
      ]
    },
    {
      "cell_type": "code",
      "execution_count": null,
      "metadata": {
        "colab": {
          "base_uri": "https://localhost:8080/",
          "height": 36
        },
        "id": "o_k3mBBmJhO3",
        "outputId": "b48aec5f-eac6-48b0-b028-93dbe1e1b9c4"
      },
      "outputs": [
        {
          "data": {
            "application/vnd.google.colaboratory.intrinsic+json": {
              "type": "string"
            },
            "text/plain": [
              "'/tmp/tmpmmddz6pr.mp3'"
            ]
          },
          "execution_count": 100,
          "metadata": {},
          "output_type": "execute_result"
        }
      ],
      "source": [
        "y"
      ]
    },
    {
      "cell_type": "code",
      "execution_count": null,
      "metadata": {
        "colab": {
          "base_uri": "https://localhost:8080/"
        },
        "id": "YDYbpWlx1fpN",
        "outputId": "eb109da0-46e1-4357-a8d2-0223df22f65b"
      },
      "outputs": [
        {
          "name": "stdout",
          "output_type": "stream",
          "text": [
            "1.1334683895111084\n"
          ]
        }
      ],
      "source": [
        "start_time = time.time()\n",
        "x , y = chatbot_pipeline('/content/my name is will.m4a')\n",
        "end_time = time.time()\n",
        "# Calculate the execution time\n",
        "execution_time = end_time - start_time\n",
        "print(execution_time)"
      ]
    },
    {
      "cell_type": "code",
      "execution_count": null,
      "metadata": {
        "colab": {
          "base_uri": "https://localhost:8080/",
          "height": 36
        },
        "id": "QDHD0BSR2qKf",
        "outputId": "43d860b1-a05c-4c4a-a8c3-776cd4d5d6cd"
      },
      "outputs": [
        {
          "data": {
            "application/vnd.google.colaboratory.intrinsic+json": {
              "type": "string"
            },
            "text/plain": [
              "\"Hello Phil, it's nice to meet you. Is there anything I can help you with?\""
            ]
          },
          "execution_count": 87,
          "metadata": {},
          "output_type": "execute_result"
        }
      ],
      "source": [
        "x"
      ]
    },
    {
      "cell_type": "code",
      "execution_count": null,
      "metadata": {
        "colab": {
          "base_uri": "https://localhost:8080/",
          "height": 36
        },
        "id": "olEjMOMq2sAy",
        "outputId": "8da62b98-a15f-4cb3-8e18-5676a1b7637a"
      },
      "outputs": [
        {
          "data": {
            "application/vnd.google.colaboratory.intrinsic+json": {
              "type": "string"
            },
            "text/plain": [
              "'/tmp/tmphcc4xhlh.mp3'"
            ]
          },
          "execution_count": 88,
          "metadata": {},
          "output_type": "execute_result"
        }
      ],
      "source": [
        "y"
      ]
    },
    {
      "cell_type": "code",
      "execution_count": null,
      "metadata": {
        "colab": {
          "base_uri": "https://localhost:8080/"
        },
        "id": "vOJp_v0b31Gw",
        "outputId": "a229a4be-d0c0-44c4-b6e9-be3a1da0b8a7"
      },
      "outputs": [
        {
          "name": "stdout",
          "output_type": "stream",
          "text": [
            " Hi my name is Vivek.\n",
            "You're not Will anymore, your name is now Vivek.\n"
          ]
        }
      ],
      "source": [
        "x1 , y1 = chatbot_pipeline('/tmpd0kq0u6z.mp3')"
      ]
    },
    {
      "cell_type": "code",
      "execution_count": null,
      "metadata": {
        "colab": {
          "base_uri": "https://localhost:8080/",
          "height": 36
        },
        "id": "0eDIm5zsH9og",
        "outputId": "6cf14b91-a518-4e81-a9e0-89f29cbb9483"
      },
      "outputs": [
        {
          "data": {
            "application/vnd.google.colaboratory.intrinsic+json": {
              "type": "string"
            },
            "text/plain": [
              "'/tmp/tmpjripfarw.mp3'"
            ]
          },
          "execution_count": 90,
          "metadata": {},
          "output_type": "execute_result"
        }
      ],
      "source": [
        "y1\n"
      ]
    },
    {
      "cell_type": "code",
      "execution_count": null,
      "metadata": {
        "colab": {
          "base_uri": "https://localhost:8080/",
          "height": 36
        },
        "id": "eEmmbi-T4t6f",
        "outputId": "2ab312da-58e8-4669-a114-9796fb957be7"
      },
      "outputs": [
        {
          "data": {
            "application/vnd.google.colaboratory.intrinsic+json": {
              "type": "string"
            },
            "text/plain": [
              "\"Hello Phil, it's nice to meet you. Is there anything I can help you with?\""
            ]
          },
          "execution_count": 36,
          "metadata": {},
          "output_type": "execute_result"
        }
      ],
      "source": [
        "x1"
      ]
    },
    {
      "cell_type": "code",
      "execution_count": null,
      "metadata": {
        "colab": {
          "base_uri": "https://localhost:8080/"
        },
        "id": "JofIkxIWEfz7",
        "outputId": "6b3f27ff-012f-4325-e208-ba666f9005c7"
      },
      "outputs": [
        {
          "name": "stdout",
          "output_type": "stream",
          "text": [
            "\u001b[2K   \u001b[90m━━━━━━━━━━━━━━━━━━━━━━━━━━━━━━━━━━━━━━━━\u001b[0m \u001b[32m57.6/57.6 MB\u001b[0m \u001b[31m14.5 MB/s\u001b[0m eta \u001b[36m0:00:00\u001b[0m\n",
            "\u001b[2K   \u001b[90m━━━━━━━━━━━━━━━━━━━━━━━━━━━━━━━━━━━━━━━━\u001b[0m \u001b[32m321.4/321.4 kB\u001b[0m \u001b[31m24.7 MB/s\u001b[0m eta \u001b[36m0:00:00\u001b[0m\n",
            "\u001b[2K   \u001b[90m━━━━━━━━━━━━━━━━━━━━━━━━━━━━━━━━━━━━━━━━\u001b[0m \u001b[32m94.8/94.8 kB\u001b[0m \u001b[31m8.1 MB/s\u001b[0m eta \u001b[36m0:00:00\u001b[0m\n",
            "\u001b[2K   \u001b[90m━━━━━━━━━━━━━━━━━━━━━━━━━━━━━━━━━━━━━━━━\u001b[0m \u001b[32m11.3/11.3 MB\u001b[0m \u001b[31m115.5 MB/s\u001b[0m eta \u001b[36m0:00:00\u001b[0m\n",
            "\u001b[2K   \u001b[90m━━━━━━━━━━━━━━━━━━━━━━━━━━━━━━━━━━━━━━━━\u001b[0m \u001b[32m73.2/73.2 kB\u001b[0m \u001b[31m6.1 MB/s\u001b[0m eta \u001b[36m0:00:00\u001b[0m\n",
            "\u001b[2K   \u001b[90m━━━━━━━━━━━━━━━━━━━━━━━━━━━━━━━━━━━━━━━━\u001b[0m \u001b[32m62.3/62.3 kB\u001b[0m \u001b[31m5.2 MB/s\u001b[0m eta \u001b[36m0:00:00\u001b[0m\n",
            "\u001b[?25h"
          ]
        }
      ],
      "source": [
        "!pip install gradio -q"
      ]
    },
    {
      "cell_type": "code",
      "execution_count": null,
      "metadata": {
        "colab": {
          "base_uri": "https://localhost:8080/",
          "height": 646
        },
        "id": "23xqQ_DsA1tK",
        "outputId": "211c809a-2657-4d63-ad3d-11b94cea1cc9"
      },
      "outputs": [
        {
          "name": "stdout",
          "output_type": "stream",
          "text": [
            "Running Gradio in a Colab notebook requires sharing enabled. Automatically setting `share=True` (you can turn this off by setting `share=False` in `launch()` explicitly).\n",
            "\n",
            "Colab notebook detected. To show errors in colab notebook, set debug=True in launch()\n",
            "* Running on public URL: https://ec81358e48028f5dca.gradio.live\n",
            "\n",
            "This share link expires in 72 hours. For free permanent hosting and GPU upgrades, run `gradio deploy` from the terminal in the working directory to deploy to Hugging Face Spaces (https://huggingface.co/spaces)\n"
          ]
        },
        {
          "data": {
            "text/html": [
              "<div><iframe src=\"https://ec81358e48028f5dca.gradio.live\" width=\"100%\" height=\"500\" allow=\"autoplay; camera; microphone; clipboard-read; clipboard-write;\" frameborder=\"0\" allowfullscreen></iframe></div>"
            ],
            "text/plain": [
              "<IPython.core.display.HTML object>"
            ]
          },
          "metadata": {},
          "output_type": "display_data"
        },
        {
          "data": {
            "text/plain": []
          },
          "execution_count": 25,
          "metadata": {},
          "output_type": "execute_result"
        }
      ],
      "source": [
        "import gradio as gr\n",
        "iface = gr.Interface(\n",
        "    fn=chatbot_pipeline,\n",
        "    inputs=gr.Audio(type=\"filepath\", label=\"Speak\"),  # Removed 'source' argument\n",
        "    outputs=[\n",
        "        gr.Textbox(label=\"Response Text\"),\n",
        "        gr.Audio(label=\"Response Audio\")\n",
        "    ],\n",
        "    title=\"Real-Time Voice-to-Voice Chatbot\"\n",
        ")\n",
        "\n",
        "iface.launch()"
      ]
    },
    {
      "cell_type": "code",
      "execution_count": null,
      "metadata": {
        "colab": {
          "base_uri": "https://localhost:8080/",
          "height": 36
        },
        "id": "rwCsp2jo_7M4",
        "outputId": "a7a81c90-970f-4a06-96bd-1fe8ee344d25"
      },
      "outputs": [
        {
          "data": {
            "application/vnd.google.colaboratory.intrinsic+json": {
              "type": "string"
            },
            "text/plain": [
              "\"Hello Will, it's nice to meet you. Is there something I can help you with or would you like to chat?\""
            ]
          },
          "execution_count": 28,
          "metadata": {},
          "output_type": "execute_result"
        }
      ],
      "source": [
        "llm_output"
      ]
    },
    {
      "cell_type": "code",
      "execution_count": null,
      "metadata": {
        "colab": {
          "base_uri": "https://localhost:8080/"
        },
        "id": "ckfzXgfg7xgp",
        "outputId": "97c3fc31-30c4-4285-806e-cb4f0434ab00"
      },
      "outputs": [
        {
          "name": "stdout",
          "output_type": "stream",
          "text": [
            "{'messages': [HumanMessage(content='Hi there! My name is Will.', additional_kwargs={}, response_metadata={}, id='c8bdebc0-ec0c-4742-abf9-14dc6503a066')]} break\n",
            "{'messages': [HumanMessage(content='Hi there! My name is Will.', additional_kwargs={}, response_metadata={}, id='c8bdebc0-ec0c-4742-abf9-14dc6503a066'), AIMessage(content=\"Hello Will, it's nice to meet you. Is there anything I can help you with today?\", additional_kwargs={}, response_metadata={'token_usage': {'completion_tokens': 21, 'prompt_tokens': 286, 'total_tokens': 307, 'completion_time': 0.028, 'prompt_time': 0.019606352, 'queue_time': 0.018969642000000002, 'total_time': 0.047606352}, 'model_name': 'llama-3.1-8b-instant', 'system_fingerprint': 'fp_9cb648b966', 'finish_reason': 'stop', 'logprobs': None}, id='run-312c1c1b-eedb-41ef-9494-c539e6adcbb2-0', usage_metadata={'input_tokens': 286, 'output_tokens': 21, 'total_tokens': 307})]} break\n"
          ]
        }
      ],
      "source": [
        "for event in events:\n",
        "  print(event , 'break')"
      ]
    },
    {
      "cell_type": "code",
      "execution_count": null,
      "metadata": {
        "colab": {
          "base_uri": "https://localhost:8080/"
        },
        "id": "Y-ms9rOF50Rq",
        "outputId": "61778ed2-4244-4d23-ad7b-d56aa5545173"
      },
      "outputs": [
        {
          "name": "stdout",
          "output_type": "stream",
          "text": [
            "{'messages': [HumanMessage(content='Hi there! My name is Will.', additional_kwargs={}, response_metadata={}, id='9c399926-46d0-4bde-b3e5-a28b1f3309b2')]}\n",
            "{'messages': [HumanMessage(content='Hi there! My name is Will.', additional_kwargs={}, response_metadata={}, id='9c399926-46d0-4bde-b3e5-a28b1f3309b2'), AIMessage(content=\"It's nice to meet you, Will. Is there anything I can help you with or would you like to chat?\", additional_kwargs={}, response_metadata={'token_usage': {'completion_tokens': 25, 'prompt_tokens': 286, 'total_tokens': 311, 'completion_time': 0.033333333, 'prompt_time': 0.020473361, 'queue_time': 0.019031413, 'total_time': 0.053806694}, 'model_name': 'llama-3.1-8b-instant', 'system_fingerprint': 'fp_f66ccb39ec', 'finish_reason': 'stop', 'logprobs': None}, id='run-58d46be6-c351-43f4-b103-8d028c5b69be-0', usage_metadata={'input_tokens': 286, 'output_tokens': 25, 'total_tokens': 311})]}\n"
          ]
        }
      ],
      "source": [
        "for event in events:\n",
        "  print(event)"
      ]
    },
    {
      "cell_type": "code",
      "execution_count": null,
      "metadata": {
        "colab": {
          "base_uri": "https://localhost:8080/"
        },
        "id": "YiIKxH1ZyeU8",
        "outputId": "53b0fd11-cca8-4f1a-e190-bb421235a08d"
      },
      "outputs": [
        {
          "name": "stdout",
          "output_type": "stream",
          "text": [
            "================================\u001b[1m Human Message \u001b[0m=================================\n",
            "\n",
            "Remember my name\n",
            "==================================\u001b[1m Ai Message \u001b[0m==================================\n",
            "\n",
            "I'll remember your name is Will. How can I assist you today?\n"
          ]
        }
      ],
      "source": [
        "user_input = \"Remember my name\"\n",
        "\n",
        "# The config is the **second positional argument** to stream() or invoke()!\n",
        "events = graph.stream(\n",
        "    {\"messages\": [(\"user\", user_input)]}, {\"configurable\": {\"thread_id\": \"1\"}}, stream_mode=\"values\"\n",
        ")\n",
        "for event in events:\n",
        "    event[\"messages\"][-1].pretty_print()"
      ]
    },
    {
      "cell_type": "code",
      "execution_count": null,
      "metadata": {
        "colab": {
          "base_uri": "https://localhost:8080/"
        },
        "id": "YiemGB7Tywtp",
        "outputId": "5ee97ce4-9436-4517-e9ab-f4218c41d812"
      },
      "outputs": [
        {
          "name": "stdout",
          "output_type": "stream",
          "text": [
            "================================\u001b[1m Human Message \u001b[0m=================================\n",
            "\n",
            "Tell me about any celebrity with the same name as mine in detail\n",
            "==================================\u001b[1m Ai Message \u001b[0m==================================\n",
            "\n",
            "<function=tavily_search_results_json>{\"query\": \"Will Smith biography\"}\n"
          ]
        }
      ],
      "source": [
        "user_input = \"Tell me about any celebrity with the same name as mine in detail\"\n",
        "\n",
        "# The config is the **second positional argument** to stream() or invoke()!\n",
        "events = graph.stream(\n",
        "    {\"messages\": [(\"user\", user_input)]}, {\"configurable\": {\"thread_id\": \"1\"}}, stream_mode=\"values\"\n",
        ")\n",
        "for event in events:\n",
        "    event[\"messages\"][-1].pretty_print()"
      ]
    },
    {
      "cell_type": "code",
      "execution_count": null,
      "metadata": {
        "colab": {
          "base_uri": "https://localhost:8080/"
        },
        "id": "5cJUpTdmy7yC",
        "outputId": "ffb4e31a-fcd7-45e2-d242-aa8316f3fc43"
      },
      "outputs": [
        {
          "name": "stdout",
          "output_type": "stream",
          "text": [
            "================================\u001b[1m Human Message \u001b[0m=================================\n",
            "\n",
            "Tell me about the celebrity you mentioned\n",
            "==================================\u001b[1m Ai Message \u001b[0m==================================\n",
            "\n",
            "Will Smith is an American actor, rapper, media personality, and producer. Born on September 25, 1968, in Philadelphia, Pennsylvania, he rose to fame as part of the hip-hop duo DJ Jazzy Jeff & The Fresh Prince, alongside DJ Jazzy Jeff. He later transitioned to a successful acting career, starring in films like \"Independence Day,\" \"Men in Black,\" and \"Ali.\"\n",
            "\n",
            "Smith's breakout role came in 1990 when he starred in the popular TV show \"The Fresh Prince of Bel-Air.\" He played the lead role of William \"Will\" Smith, a teenager from Philadelphia who moves to live with his wealthy aunt and uncle in Bel-Air.\n",
            "\n",
            "Throughout his career, Smith has received numerous awards and nominations, including two Grammy Awards, four Golden Globe Awards, and an Academy Award nomination. He has also been named one of the most influential people in the world by TIME Magazine.\n",
            "\n",
            "In addition to his acting career, Smith is also a successful businessman and producer. He has produced several films and TV shows through his production company, Overbrook Entertainment, which he founded with his wife, Jada Pinkett Smith.\n",
            "\n",
            "Smith has been married to Jada Pinkett Smith since 1997, and they have two children together, Jaden and Willow. He has also been involved in various philanthropic efforts, including working with the Make-A-Wish Foundation and the Boys and Girls Clubs of America.\n",
            "\n",
            "Overall, Will Smith is a talented and influential figure in the entertainment industry, known for his charismatic personality, impressive acting skills, and philanthropic efforts.\n"
          ]
        }
      ],
      "source": [
        "user_input = \"Tell me about the celebrity you mentioned\"\n",
        "\n",
        "# The config is the **second positional argument** to stream() or invoke()!\n",
        "events = graph.stream(\n",
        "    {\"messages\": [(\"user\", user_input)]}, {\"configurable\": {\"thread_id\": \"1\"}}, stream_mode=\"values\"\n",
        ")\n",
        "for event in events:\n",
        "    event[\"messages\"][-1].pretty_print()"
      ]
    },
    {
      "cell_type": "code",
      "execution_count": null,
      "metadata": {
        "colab": {
          "base_uri": "https://localhost:8080/"
        },
        "id": "WGybog220VVT",
        "outputId": "0db5b208-7d24-4101-9913-92c5c70863b1"
      },
      "outputs": [
        {
          "name": "stdout",
          "output_type": "stream",
          "text": [
            "================================\u001b[1m Human Message \u001b[0m=================================\n",
            "\n",
            "I'm learning LangGraph. Could you do some research on it for me?\n",
            "==================================\u001b[1m Ai Message \u001b[0m==================================\n",
            "Tool Calls:\n",
            "  tavily_search_results_json (call_sa97)\n",
            " Call ID: call_sa97\n",
            "  Args:\n",
            "    query: LangGraph\n",
            "=================================\u001b[1m Tool Message \u001b[0m=================================\n",
            "Name: tavily_search_results_json\n",
            "\n",
            "[{\"url\": \"https://www.langchain.com/langgraph\", \"content\": \"LangGraph is a framework for building and scaling agentic applications with LangChain Platform. It supports diverse control flows, human-agent collaboration, streaming, and deployment options for complex tasks.\"}, {\"url\": \"https://www.datacamp.com/tutorial/langgraph-tutorial\", \"content\": \"LangGraph is a library within the LangChain ecosystem that simplifies the development of complex, multi-agent large language model (LLM) applications. Learn how to use LangGraph to create stateful, flexible, and scalable systems with nodes, edges, and state management.\"}]\n",
            "==================================\u001b[1m Ai Message \u001b[0m==================================\n",
            "Tool Calls:\n",
            "  tavily_search_results_json (call_52yd)\n",
            " Call ID: call_52yd\n",
            "  Args:\n",
            "    query: LangChain Platform\n",
            "=================================\u001b[1m Tool Message \u001b[0m=================================\n",
            "Name: tavily_search_results_json\n",
            "\n",
            "[{\"url\": \"https://en.wikipedia.org/wiki/LangChain\", \"content\": \"In October 2023 LangChain introduced LangServe, a deployment tool designed to facilitate the transition from LCEL (LangChain Expression Language) prototypes to production-ready applications.[5]\\nIntegrations[edit]\\nAs of March 2023, LangChain included integrations with systems including Amazon, Google, and Microsoft Azure cloud storage; API wrappers for news, movie information, and weather; Bash for summarization, syntax and semantics checking, and execution of shell scripts; multiple web scraping subsystems and templates; few-shot learning prompt generation support; finding and summarizing \\\"todo\\\" tasks in code; Google Drive documents, spreadsheets, and presentations summarization, extraction, and creation; Google Search and Microsoft Bing web search; OpenAI, Anthropic, and Hugging Face language models; iFixit repair guides and wikis search and summarization; MapReduce for question answering, combining documents, and question generation; N-gram overlap scoring; PyPDF, pdfminer, fitz, and pymupdf for PDF file text extraction and manipulation; Python and JavaScript code generation, analysis, and debugging; Milvus vector database[6] to store and retrieve vector embeddings; Weaviate vector database[7] to cache embedding and data objects; Redis cache database storage; Python RequestsWrapper and other methods for API requests; SQL and NoSQL databases including JSON support; Streamlit, including for logging; text mapping for k-nearest neighbors search; time zone conversion and calendar operations; tracing and recording stack symbols in threaded and asynchronous subprocess runs; and the Wolfram Alpha website and SDK.[8] As a language model integration framework, LangChain's use-cases largely overlap with those of language models in general, including document analysis and summarization, chatbots, and code analysis.[2]\\nHistory[edit]\\nLangChain was launched in October 2022 as an open source project by Harrison Chase, while working at machine learning startup Robust Intelligence. In April 2023, LangChain had incorporated and the new startup raised over $20 million in funding at a valuation of at least $200 million from venture firm Sequoia Capital, a week after announcing a $10 million seed investment from Benchmark.[3][4]\\n The project quickly garnered popularity, with improvements from hundreds of contributors on GitHub, trending discussions on Twitter, lively activity on the project's Discord server, many YouTube tutorials, and meetups in San Francisco and London. As of April 2023, it can read from more than 50 document types and data sources.[9]\\nReferences[edit]\\nExternal links[edit]\"}, {\"url\": \"https://www.techtarget.com/searchEnterpriseAI/definition/LangChain\", \"content\": \"Everything you need to know\\nWhat are the features of LangChain?\\nLangChain is made up of the following modules that ensure the multiple components needed to make an effective NLP app can run smoothly:\\nWhat are the integrations of LangChain?\\nLangChain typically builds applications using integrations with LLM providers and external sources where data can be found and stored. What is synthetic data?\\nExamples and use cases for LangChain\\nThe LLM-based applications LangChain is capable of building can be applied to multiple advanced use cases within various industries and vertical markets, such as the following:\\nReaping the benefits of NLP is a key of why LangChain is important. As the airline giant moves more of its data workloads to the cloud, tools from Intel's Granulate are making platforms such as ...\\nThe vendor's new platform, now in beta testing, combines its existing lakehouse with AI to better enable users to manage and ...\\n The following steps are required to use this:\\nIn this scenario, the language model would be expected to take the two input variables -- the adjective and the content -- and produce a fascinating fact about zebras as its output.\\n The goal of LangChain is to link powerful LLMs, such as OpenAI's GPT-3.5 and GPT-4, to an array of external data sources to create and reap the benefits of natural language processing (NLP) applications.\\n\"}]\n",
            "==================================\u001b[1m Ai Message \u001b[0m==================================\n",
            "\n",
            "Based on the search results, LangGraph is a framework for building and scaling agentic applications with the LangChain Platform. It supports diverse control flows, human-agent collaboration, streaming, and deployment options for complex tasks. LangGraph is a library within the LangChain ecosystem that simplifies the development of complex, multi-agent large language model (LLM) applications. It allows for stateful, flexible, and scalable systems with nodes, edges, and state management.\n"
          ]
        }
      ],
      "source": [
        "user_input = \"I'm learning LangGraph. Could you do some research on it for me?\"\n",
        " # we'll use thread_id = 2 here\n",
        "events = graph.stream(\n",
        "    {\"messages\": [(\"user\", user_input)]}, {\"configurable\": {\"thread_id\": \"2\"}}, stream_mode=\"values\"\n",
        ")\n",
        "for event in events:\n",
        "    if \"messages\" in event:\n",
        "        event[\"messages\"][-1].pretty_print()"
      ]
    },
    {
      "cell_type": "code",
      "execution_count": null,
      "metadata": {
        "colab": {
          "base_uri": "https://localhost:8080/"
        },
        "id": "Jl3sOMAem3o0",
        "outputId": "695e232b-dd73-4ff5-9d1e-620db0bc6187"
      },
      "outputs": [
        {
          "name": "stdout",
          "output_type": "stream",
          "text": [
            "User: hy how it's going on\n",
            "Assistant: It's going well, thank you for asking. I'm a large language model, so I don't have emotions or experiences like humans do, but I'm always here and ready to help with any questions or topics you'd like to discuss. It's great to have you here, and I'm looking forward to our conversation. How about you? How's your day going?\n",
            "User: okay can you help me by working as a sales assistant for me and help me in closing sales\n",
            "Assistant: I'd be happy to help you as a sales assistant.\n",
            "\n",
            "To get started, can you please provide me with more information about the product or service you're selling? This can include:\n",
            "\n",
            "1. What is the product or service?\n",
            "2. Who is your target audience?\n",
            "3. What are the key benefits and features of the product or service?\n",
            "4. What's the typical objection or concern that customers may have?\n",
            "5. What's your pricing strategy?\n",
            "\n",
            "Additionally, what specific area of sales assistance do you need help with? Do you need:\n",
            "\n",
            "1. Help with crafting a sales pitch or script?\n",
            "2. Assistance with responding to common objections?\n",
            "3. Guidance on how to handle difficult customers?\n",
            "4. Support with closing deals and negotiating prices?\n",
            "5. Something else?\n",
            "\n",
            "Let me know, and I'll do my best to help you close more sales!\n",
            "User: exit\n",
            "Goodbye!\n"
          ]
        }
      ],
      "source": [
        "def stream_graph_updates(user_input: str):\n",
        "    for event in graph.stream({\"messages\": [(\"user\", user_input)]}):\n",
        "        for value in event.values():\n",
        "            print(\"Assistant:\", value[\"messages\"][-1].content)\n",
        "\n",
        "\n",
        "while True:\n",
        "    try:\n",
        "        user_input = input(\"User: \")\n",
        "        if user_input.lower() in [\"quit\", \"exit\", \"q\"]:\n",
        "            print(\"Goodbye!\")\n",
        "            break\n",
        "\n",
        "        stream_graph_updates(user_input)\n",
        "    except:\n",
        "        # fallback if input() is not available\n",
        "        user_input = \"What do you know about LangGraph?\"\n",
        "        print(\"User: \" + user_input)\n",
        "        stream_graph_updates(user_input)\n",
        "        break"
      ]
    },
    {
      "cell_type": "code",
      "execution_count": null,
      "metadata": {
        "id": "Dy56_qjMp4Mn"
      },
      "outputs": [],
      "source": []
    }
  ],
  "metadata": {
    "accelerator": "GPU",
    "colab": {
      "gpuType": "T4",
      "provenance": []
    },
    "kernelspec": {
      "display_name": "Python 3",
      "name": "python3"
    },
    "language_info": {
      "name": "python"
    }
  },
  "nbformat": 4,
  "nbformat_minor": 0
}